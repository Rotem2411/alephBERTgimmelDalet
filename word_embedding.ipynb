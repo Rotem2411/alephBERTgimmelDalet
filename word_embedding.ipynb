{
  "nbformat": 4,
  "nbformat_minor": 0,
  "metadata": {
    "colab": {
      "provenance": [],
      "authorship_tag": "ABX9TyMFMbKmW3WhR4w+mI84ocqi",
      "include_colab_link": true
    },
    "kernelspec": {
      "name": "python3",
      "display_name": "Python 3"
    },
    "language_info": {
      "name": "python"
    }
  },
  "cells": [
    {
      "cell_type": "markdown",
      "metadata": {
        "id": "view-in-github",
        "colab_type": "text"
      },
      "source": [
        "<a href=\"https://colab.research.google.com/github/Rotem2411/alephBERTgimmelDalet/blob/main/word_embedding.ipynb\" target=\"_parent\"><img src=\"https://colab.research.google.com/assets/colab-badge.svg\" alt=\"Open In Colab\"/></a>"
      ]
    },
    {
      "cell_type": "code",
      "execution_count": 1,
      "metadata": {
        "colab": {
          "base_uri": "https://localhost:8080/"
        },
        "id": "S9GF-Ohg-XF6",
        "outputId": "934d93ed-cf3e-41fd-9a79-fbac6af9ffb2"
      },
      "outputs": [
        {
          "output_type": "stream",
          "name": "stderr",
          "text": [
            "[nltk_data] Downloading package stopwords to /root/nltk_data...\n",
            "[nltk_data]   Unzipping corpora/stopwords.zip.\n",
            "[nltk_data] Downloading package punkt to /root/nltk_data...\n",
            "[nltk_data]   Unzipping tokenizers/punkt.zip.\n",
            "[nltk_data] Downloading package wordnet to /root/nltk_data...\n"
          ]
        }
      ],
      "source": [
        "import csv\n",
        "import pandas as pd\n",
        "import numpy as np\n",
        "import nltk\n",
        "nltk.download('stopwords')\n",
        "nltk.download('punkt')\n",
        "nltk.download('wordnet')\n",
        "from sklearn.feature_extraction.text import TfidfVectorizer, CountVectorizer\n",
        "from sklearn.decomposition import LatentDirichletAllocation\n",
        "from sklearn.model_selection import GridSearchCV\n",
        "from pprint import pprint"
      ]
    },
    {
      "cell_type": "code",
      "source": [
        "file_path = 'sentiments.csv'\n",
        "df = pd.read_csv(file_path)"
      ],
      "metadata": {
        "id": "ChRe4f3D-aBZ"
      },
      "execution_count": 2,
      "outputs": []
    },
    {
      "cell_type": "code",
      "source": [
        "from gensim.models import Word2Vec\n",
        "\n",
        "# Preprocess the text data\n",
        "text_data = df['text'].tolist()\n",
        "tokenized_text = [nltk.word_tokenize(text) for text in text_data]\n",
        "\n",
        "# Train the Word2Vec model\n",
        "model = Word2Vec(tokenized_text, vector_size=100, window=5, min_count=1)\n",
        "\n",
        "# Access the word embeddings\n",
        "word_embeddings = model.wv\n",
        "\n",
        "# Example usage:\n",
        "print(word_embeddings['נתניהו'])"
      ],
      "metadata": {
        "colab": {
          "base_uri": "https://localhost:8080/"
        },
        "id": "8eZVCqn0-q82",
        "outputId": "05316300-5446-414e-df6b-9cd5bf750f78"
      },
      "execution_count": 7,
      "outputs": [
        {
          "output_type": "stream",
          "name": "stdout",
          "text": [
            "[-1.0345631   1.157396    0.0507987  -0.27035663 -0.54412365 -0.76210415\n",
            "  0.38072824  1.6167638  -1.6510459  -0.9283394  -0.73153883 -0.7131227\n",
            "  0.28734982 -0.07851041 -0.16950834 -0.8130755   0.767896   -0.95093983\n",
            " -0.2505479  -1.9734653   0.85365343  0.03785833  1.8392847  -1.113042\n",
            " -0.20435059 -0.18002708 -0.4065457   0.38807872 -0.6314873  -0.20333733\n",
            "  1.5484554   0.2305391   0.74586254 -0.94153786  0.37667927  2.2850373\n",
            " -0.3987336  -0.99742323 -0.8980912  -0.30600157  0.8266768  -0.7613109\n",
            " -0.2125728  -0.39516714  0.3869239  -1.0732036  -0.5106145  -0.08193699\n",
            "  0.36869752  0.5077044   0.72592586 -0.23301478 -0.06704706 -0.08569185\n",
            " -1.0704783   0.39431548  1.2090183  -0.2788896  -0.27908278  0.346259\n",
            "  0.5107319  -0.29403815  0.76361614 -0.10490412 -0.2978145   0.7575754\n",
            " -0.57960385  1.0906923  -1.4382719   0.44958892 -0.60467225  0.9092146\n",
            "  0.87621975  0.25826874  1.2321355  -0.23572783  0.3031045   0.46852577\n",
            " -0.12753889 -0.3337728  -1.0421752   0.25614062 -0.94645685  1.7857149\n",
            " -0.56611603 -0.59492636  0.54917544  0.4937226   1.359701    0.9995096\n",
            "  1.0366453   1.0833007  -0.0247868  -0.757615    1.8141779   0.7344331\n",
            "  0.17409429 -0.66636103  0.28749147 -1.1471353 ]\n"
          ]
        }
      ]
    },
    {
      "cell_type": "code",
      "source": [
        "# Use the most_similar method\n",
        "most_similar_words = word_embeddings.most_similar('נתניהו')\n",
        "\n",
        "# Print the most similar words\n",
        "print(most_similar_words)"
      ],
      "metadata": {
        "colab": {
          "base_uri": "https://localhost:8080/"
        },
        "id": "_DKvZ7m-IDnj",
        "outputId": "e9acf6fd-5a71-4d93-c31a-546d644da852"
      },
      "execution_count": 10,
      "outputs": [
        {
          "output_type": "stream",
          "name": "stdout",
          "text": [
            "[('פוטין', 0.9560457468032837), ('לפיד', 0.9524861574172974), ('טראמפ', 0.9508773684501648), ('הליכוד', 0.9489002227783203), ('בנט', 0.9453119039535522), ('גנץ', 0.9286472797393799), ('ליברמן', 0.9252690672874451), ('אבא', 0.9242479205131531), ('ביבי', 0.9186573624610901), ('העם', 0.9181138873100281)]\n"
          ]
        }
      ]
    }
  ]
}