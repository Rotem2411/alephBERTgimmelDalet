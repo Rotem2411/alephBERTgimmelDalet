{
  "nbformat": 4,
  "nbformat_minor": 0,
  "metadata": {
    "colab": {
      "provenance": [],
      "authorship_tag": "ABX9TyM1leNogkmL/uzY8RPJ4a2l",
      "include_colab_link": true
    },
    "kernelspec": {
      "name": "python3",
      "display_name": "Python 3"
    },
    "language_info": {
      "name": "python"
    }
  },
  "cells": [
    {
      "cell_type": "markdown",
      "metadata": {
        "id": "view-in-github",
        "colab_type": "text"
      },
      "source": [
        "<a href=\"https://colab.research.google.com/github/Rotem2411/alephBERTgimmelDalet/blob/main/Sentiment_Ex1.ipynb\" target=\"_parent\"><img src=\"https://colab.research.google.com/assets/colab-badge.svg\" alt=\"Open In Colab\"/></a>"
      ]
    },
    {
      "cell_type": "code",
      "execution_count": 1,
      "metadata": {
        "id": "YrscUhc4RI_T"
      },
      "outputs": [],
      "source": [
        "import csv\n",
        "import pandas as pd\n",
        "import matplotlib.pyplot as plt\n",
        "import nltk\n",
        "from collections import Counter\n",
        "from string import punctuation\n",
        "from transformers import AutoTokenizer, AutoModel, pipeline\n",
        "from sklearn.ensemble import RandomForestClassifier\n",
        "from sklearn.feature_extraction.text import TfidfVectorizer\n",
        "from sklearn.linear_model import LogisticRegression\n",
        "from sklearn.metrics import accuracy_score, precision_score, recall_score\n",
        "from sklearn.metrics import classification_report\n",
        "from sklearn.model_selection import train_test_split\n",
        "from sklearn.model_selection import cross_val_score\n",
        "from sklearn.model_selection import GridSearchCV\n",
        "from sklearn.svm import SVC"
      ]
    },
    {
      "cell_type": "code",
      "source": [
        "def read_csv_file(file_path):\n",
        "    data = []\n",
        "    with open(file_path, 'r', newline='', encoding='utf-8') as csvfile:\n",
        "        csv_reader = csv.reader(csvfile)\n",
        "        for row in csv_reader:\n",
        "            data.append(row)\n",
        "    return data"
      ],
      "metadata": {
        "id": "K8ZPx8juRlVP"
      },
      "execution_count": 2,
      "outputs": []
    },
    {
      "cell_type": "code",
      "source": [
        "    file_path = 'sentiments.csv'\n",
        "    df = pd.read_csv(file_path)\n",
        "    print(df.head(10))\n",
        "\n",
        "    # Total number of samples\n",
        "    num_samples = len(df)\n",
        "    print(\"Total number of samples:\", num_samples)\n",
        "\n",
        "    # Sentiment distribution\n",
        "    Sentiment_distribution = {}\n",
        "    for index, row in df.iterrows():\n",
        "        Sentiment_label = row['tag']\n",
        "        if Sentiment_label not in Sentiment_distribution:\n",
        "            Sentiment_distribution[Sentiment_label] = 1\n",
        "        else:\n",
        "            Sentiment_distribution[Sentiment_label] += 1\n",
        "    print(\"Sentiment Distribution:\")\n",
        "    for Sentiment_label, count in Sentiment_distribution.items():\n",
        "        print(f\"{Sentiment_label}: {count} tags\")"
      ],
      "metadata": {
        "colab": {
          "base_uri": "https://localhost:8080/"
        },
        "id": "gIWzcPBPRtoP",
        "outputId": "ce8fe2f3-0338-4eff-bc37-5f4e94544e51"
      },
      "execution_count": 3,
      "outputs": [
        {
          "output_type": "stream",
          "name": "stdout",
          "text": [
            "   id                                               text tag category class  \\\n",
            "0   1                    האריות של הצל חזק פה בתגובות...   ש  ECONOMY    b1   \n",
            "1   2  זמרת תעשייה רק מפרסומות מפורסמת\\n  אבל אין קהל...   ש  ECONOMY    b1   \n",
            "2   4  את לא יורקת לבאר שממנה שתית. יפה יפה, אבל חסרת...   ש  ECONOMY    b1   \n",
            "3   5  שמעון\\n  משתתף בפרסומת למילקי במקום לעורר מודע...   ש  ECONOMY    b1   \n",
            "4   6  הצחקתם אותי\\n  מה כל כך אמייזינג בחברה עם אפס ...   ש  ECONOMY    b1   \n",
            "5   7  איסו חברת הייטק מצליחה צריכה פרסומות שיבואו לע...   ש  ECONOMY    b1   \n",
            "6   8           לא מכיר אותה ולא שמעתי אפילו שיר אחד שלה   ש  ECONOMY    b1   \n",
            "7   9  וואללה לא יודע מה מתלהבים מנגה ארז. זה בכלל לא...   ש  ECONOMY    b1   \n",
            "8  10  אהובה שגיא\\n  נגה גדולה.זמרת מעולה.פרסומת מדלי...   ח  ECONOMY    b1   \n",
            "9  11  הפרסומת של אמדוקס נראית מאוד קודרת ואפורה, כמו...   ש  ECONOMY    b1   \n",
            "\n",
            "   total_tags  selected_tag  polarity  \n",
            "0           2             2       1.0  \n",
            "1           2             2       1.0  \n",
            "2           2             2       1.0  \n",
            "3           2             2       1.0  \n",
            "4           2             2       1.0  \n",
            "5           2             2       1.0  \n",
            "6           2             2       1.0  \n",
            "7           2             2       1.0  \n",
            "8           2             2       1.0  \n",
            "9           2             2       1.0  \n",
            "Total number of samples: 75151\n",
            "Sentiment Distribution:\n",
            "ש: 60841 tags\n",
            "ח: 6982 tags\n",
            "נ: 7328 tags\n"
          ]
        }
      ]
    },
    {
      "cell_type": "code",
      "source": [
        "df['tag'].value_counts().plot.pie(figsize=(6,6),title=\"Distribution of tags per sentiment\", autopct='%1.1f%%')\n",
        "labels=[\"Negative\", \"Neutral\", \"Positive\"]\n",
        "plt.legend(labels,loc=3)\n",
        "plt.gca().set_aspect('equal')"
      ],
      "metadata": {
        "colab": {
          "base_uri": "https://localhost:8080/",
          "height": 521
        },
        "id": "FTB89FrOl2YA",
        "outputId": "02b57953-558e-4f5d-c744-66f59dcde391"
      },
      "execution_count": 4,
      "outputs": [
        {
          "output_type": "display_data",
          "data": {
            "text/plain": [
              "<Figure size 600x600 with 1 Axes>"
            ],
            "image/png": "[encoded data removed]"
          },
          "metadata": {}
        }
      ]
    },
    {
      "cell_type": "code",
      "source": [
        "    nltk.download('punkt')\n",
        "\n",
        "    # Tokenize each text into words, excluding punctuation, and flatten the list of tokenized words\n",
        "    all_words = [word for text in df['text'] for word in nltk.word_tokenize(text) if word not in punctuation]\n",
        "\n",
        "    # Tokenize each text into sentences\n",
        "    all_sentences = [sentence for text in df['text'] for sentence in nltk.sent_tokenize(text)]\n",
        "\n",
        "    # Count the occurrences of each word\n",
        "    word_counts = Counter(all_words)\n",
        "\n",
        "    print(\"There are\", len(set(all_words)) , \" different words in the text.\")\n",
        "    print(\"The top 10 most common words are: \", word_counts.most_common(10))"
      ],
      "metadata": {
        "colab": {
          "base_uri": "https://localhost:8080/"
        },
        "id": "kXvQQVuk-hP3",
        "outputId": "94a65d0b-8a72-47f6-c3e3-b8cf1cf73186"
      },
      "execution_count": 5,
      "outputs": [
        {
          "output_type": "stream",
          "name": "stderr",
          "text": [
            "[nltk_data] Downloading package punkt to /root/nltk_data...\n",
            "[nltk_data]   Package punkt is already up-to-date!\n"
          ]
        },
        {
          "output_type": "stream",
          "name": "stdout",
          "text": [
            "There are 106891  different words in the text.\n",
            "The top 10 most common words are:  [('לא', 29679), ('את', 23642), ('זה', 14142), ('של', 14048), ('על', 13068), ('כל', 8932), ('מה', 8132), (\"''\", 7981), ('עם', 7329), ('גם', 6241)]\n"
          ]
        }
      ]
    },
    {
      "cell_type": "markdown",
      "source": [
        "We can see there are 75,151 tags and there's not a single null value.\n",
        "\n",
        "All the sentences were annotated by crowd members(2-5 annotators) to sentiment: positive, negative or neutral.\n",
        "\n",
        "Since there are too many examples for our computation capacity, we'll split the dataset and reduce it.\n",
        "\n",
        "First, we'll reduce the data set to 10% and then we'll keep 50% for the training set and 25% both for the validation and the test set."
      ],
      "metadata": {
        "id": "AFm0oOvxn0jD"
      }
    },
    {
      "cell_type": "code",
      "source": [
        "features = df['text']\n",
        "labels = df['tag']\n",
        "\n",
        "X_train, X_test, y_train, y_test = train_test_split(features,labels,test_size = 0.90, random_state=42)\n",
        "X_train, X_test, y_train, y_test = train_test_split(X_train,y_train,test_size = 0.5, random_state=42)\n",
        "X_val, X_test, y_val, y_test = train_test_split(X_test,y_test,test_size = 0.5, random_state=42)\n",
        "\n",
        "print(\"Data distribution:\\n- Train: {} \\n- Validation: {} \\n- Test: {}\".format(len(y_train),len(y_val),len(y_test)))"
      ],
      "metadata": {
        "colab": {
          "base_uri": "https://localhost:8080/"
        },
        "id": "xFGI51fVkaFf",
        "outputId": "3ce17e66-03d1-439e-e814-78b9305001df"
      },
      "execution_count": 6,
      "outputs": [
        {
          "output_type": "stream",
          "name": "stdout",
          "text": [
            "Data distribution:\n",
            "- Train: 3757 \n",
            "- Validation: 1879 \n",
            "- Test: 1879\n"
          ]
        }
      ]
    },
    {
      "cell_type": "code",
      "source": [
        "def vectorize(data, tfidf_vect_fit):\n",
        "    X_tfidf = tfidf_vect_fit.transform(data)\n",
        "    words = tfidf_vect_fit.get_feature_names_out()\n",
        "    X_tfidf_df = pd.DataFrame(X_tfidf.toarray())\n",
        "    X_tfidf_df.columns = words\n",
        "    return(X_tfidf_df)"
      ],
      "metadata": {
        "id": "kk-Apm3K--Gv"
      },
      "execution_count": 7,
      "outputs": []
    },
    {
      "cell_type": "code",
      "source": [
        "def clean(text):\n",
        "    wn = nltk.WordNetLemmatizer()\n",
        "    stopword = nltk.corpus.stopwords.words('hebrew')\n",
        "    tokens = nltk.word_tokenize(text)\n",
        "    lower = [word.lower() for word in tokens]\n",
        "    no_stopwords = [word for word in lower if word not in stopword]\n",
        "    no_alpha = [word for word in no_stopwords if word.isalpha()]\n",
        "    lemm_text = [wn.lemmatize(word) for word in no_alpha]\n",
        "    clean_text = lemm_text\n",
        "    return clean_text"
      ],
      "metadata": {
        "id": "mC5JkMWFCX5C"
      },
      "execution_count": 8,
      "outputs": []
    },
    {
      "cell_type": "code",
      "source": [
        "nltk.download('stopwords')\n",
        "nltk.download('wordnet')\n",
        "tfidf_vect = TfidfVectorizer(analyzer=clean)\n",
        "tfidf_vect_fit=tfidf_vect.fit(X_train)\n",
        "X_train = vectorize(X_train, tfidf_vect_fit)"
      ],
      "metadata": {
        "colab": {
          "base_uri": "https://localhost:8080/"
        },
        "id": "weLzkKSSGXsn",
        "outputId": "51840ac0-4e01-4a59-92b5-49cfd1f3c2ec"
      },
      "execution_count": 9,
      "outputs": [
        {
          "output_type": "stream",
          "name": "stderr",
          "text": [
            "[nltk_data] Downloading package stopwords to /root/nltk_data...\n",
            "[nltk_data]   Package stopwords is already up-to-date!\n",
            "[nltk_data] Downloading package wordnet to /root/nltk_data...\n",
            "[nltk_data]   Package wordnet is already up-to-date!\n"
          ]
        }
      ]
    },
    {
      "cell_type": "markdown",
      "source": [
        "We explore first results of a Random Forest Classifier without any hyperparameter tuning using 10-cross-fold validation"
      ],
      "metadata": {
        "id": "ODHrHvMtMBIp"
      }
    },
    {
      "cell_type": "code",
      "source": [
        "rf = RandomForestClassifier()\n",
        "scores = cross_val_score(rf,X_train,y_train.values.ravel(),cv=10)"
      ],
      "metadata": {
        "id": "IzI3wsNUH06O"
      },
      "execution_count": null,
      "outputs": []
    },
    {
      "cell_type": "code",
      "source": [
        "print(scores)\n",
        "scores.mean()"
      ],
      "metadata": {
        "id": "uglxf2qGMRzR"
      },
      "execution_count": null,
      "outputs": []
    },
    {
      "cell_type": "markdown",
      "source": [
        "Now we'll do some hyperparameter tuning using GridSearchCV."
      ],
      "metadata": {
        "id": "0azFny0A9H9d"
      }
    },
    {
      "cell_type": "code",
      "source": [
        "def print_results(results):\n",
        "    print('BEST PARAMS: {}\\n'.format(results.best_params_))\n",
        "\n",
        "    means = results.cv_results_['mean_test_score']\n",
        "    stds = results.cv_results_['std_test_score']\n",
        "    for mean, std, params in zip(means, stds, results.cv_results_['params']):\n",
        "        print('{} (+/-{}) for {}'.format(round(mean, 3), round(std * 2, 3), params))"
      ],
      "metadata": {
        "id": "notjIMvC7-fX"
      },
      "execution_count": null,
      "outputs": []
    },
    {
      "cell_type": "code",
      "source": [
        "rf = RandomForestClassifier()\n",
        "parameters = {\n",
        "    'n_estimators': [5,50,100],\n",
        "    'max_depth': [2,10,20,None]\n",
        "}\n",
        "\n",
        "cv = GridSearchCV(rf,parameters)\n",
        "cv.fit(X_train,y_train.values.ravel())\n",
        "print_results(cv)"
      ],
      "metadata": {
        "id": "ukMzHgLG8I2m"
      },
      "execution_count": null,
      "outputs": []
    },
    {
      "cell_type": "markdown",
      "source": [
        "For the evaluation of the validation set, first we need to transform it using the same features as the training set. Then, we can evaluate our best models from CV on it."
      ],
      "metadata": {
        "id": "WeN0LvUr9Mer"
      }
    },
    {
      "cell_type": "code",
      "source": [
        "X_val=vectorize(X_val,tfidf_vect_fit)"
      ],
      "metadata": {
        "id": "DILM1FRD8NlF"
      },
      "execution_count": null,
      "outputs": []
    },
    {
      "cell_type": "code",
      "source": [
        "rf1 = RandomForestClassifier(n_estimators=100,max_depth=20)\n",
        "rf1.fit(X_train, y_train.values.ravel())\n",
        "rf2 = RandomForestClassifier(n_estimators=100,max_depth=None)\n",
        "rf2.fit(X_train, y_train.values.ravel())\n",
        "rf3 = RandomForestClassifier(n_estimators=5,max_depth=None)\n",
        "rf3.fit(X_train, y_train.values.ravel())"
      ],
      "metadata": {
        "id": "U3DheCvg8k1n"
      },
      "execution_count": null,
      "outputs": []
    },
    {
      "cell_type": "code",
      "source": [
        "for mdl in [rf1,rf2,rf3]:\n",
        "    y_pred = mdl.predict(X_val)\n",
        "    accuracy = round(accuracy_score(y_val, y_pred), 3)\n",
        "    precision = round(precision_score(y_val, y_pred, average='micro'), 3)\n",
        "    recall = round(recall_score(y_val,y_pred, average='micro'), 3)\n",
        "    print('MAX DEPTH: {} / # OF EST: {} -- A: {} / P: {} / R: {}'.format(mdl.max_depth,\n",
        "                                                                         mdl.n_estimators,\n",
        "                                                                         accuracy,\n",
        "                                                                         precision,\n",
        "                                                                         recall))"
      ],
      "metadata": {
        "id": "ThNTmqX88ljU"
      },
      "execution_count": null,
      "outputs": []
    },
    {
      "cell_type": "markdown",
      "source": [
        "Finally, we can see the the best model is the second one:\n",
        "\n",
        "MAX DEPTH: None / # OF EST: 100\n",
        "\n",
        "So now we will evaluate the best model on the test set."
      ],
      "metadata": {
        "id": "p64Yawkz9dmo"
      }
    },
    {
      "cell_type": "code",
      "source": [
        "X_test=vectorize(X_test,tfidf_vect_fit)\n",
        "\n",
        "y_pred = rf2.predict(X_test)\n",
        "accuracy = round(accuracy_score(y_test,y_pred), 3)\n",
        "precision = round(precision_score(y_test,y_pred, average='micro'), 3)\n",
        "recall = round(recall_score(y_test,y_pred, average='micro'), 3)\n",
        "print('MAX DEPTH: {} / # OF EST: {} -- A: {} / P: {} / R: {}'.format(rf2.max_depth,\n",
        "                                                                     rf2.n_estimators,\n",
        "                                                                     accuracy,\n",
        "                                                                     precision,\n",
        "                                                                     recall))"
      ],
      "metadata": {
        "id": "i8vA68_a8oVl"
      },
      "execution_count": null,
      "outputs": []
    },
    {
      "cell_type": "code",
      "source": [
        "feat_importances = pd.Series(rf2.feature_importances_, index=X_train.columns)\n",
        "feat_importances.nlargest(20).plot(kind='barh',figsize=(10,10))\n",
        "plt.title(\"Top 20 important features\")\n",
        "plt.show()"
      ],
      "metadata": {
        "id": "qTrXXavC82xX"
      },
      "execution_count": null,
      "outputs": []
    },
    {
      "cell_type": "code",
      "source": [
        "feat_importances.nlargest(20)"
      ],
      "metadata": {
        "id": "k8s2OmFQh7Jg"
      },
      "execution_count": null,
      "outputs": []
    },
    {
      "cell_type": "code",
      "source": [
        "from sklearn import metrics\n",
        "confusion_matrix = metrics.confusion_matrix(y_test, y_pred)\n",
        "cm_display = metrics.ConfusionMatrixDisplay(confusion_matrix = confusion_matrix, display_labels = [\"Positive\", \"Neutral\", \"Negative\"])\n",
        "cm_display.plot()\n",
        "plt.show()"
      ],
      "metadata": {
        "id": "PZkrkQaVTktI"
      },
      "execution_count": null,
      "outputs": []
    },
    {
      "cell_type": "markdown",
      "source": [
        "LDA - Latent Dirichlet allocation"
      ],
      "metadata": {
        "id": "0WfW-hsXqBMU"
      }
    },
    {
      "cell_type": "code",
      "source": [
        "def plot_top_words(model, feature_names, n_top_words, title):\n",
        "    fig, axes = plt.subplots(1, 3, figsize=(10, 5), sharex=True)\n",
        "    axes = axes.flatten()\n",
        "    for topic_idx, topic in enumerate(model.components_):\n",
        "        top_features_ind = topic.argsort()[-n_top_words:]\n",
        "        top_features = feature_names[top_features_ind]\n",
        "        weights = topic[top_features_ind]\n",
        "\n",
        "        ax = axes[topic_idx]\n",
        "        ax.barh(top_features, weights, height=0.7)\n",
        "        ax.set_title(f\"Topic {topic_idx +1}\", fontdict={\"fontsize\": 30})\n",
        "        ax.tick_params(axis=\"both\", which=\"major\", labelsize=20)\n",
        "        for i in \"top right left\".split():\n",
        "            ax.spines[i].set_visible(False)\n",
        "        fig.suptitle(title, fontsize=40)\n",
        "\n",
        "    plt.subplots_adjust(top=0.90, bottom=0.05, wspace=0.90, hspace=0.3)\n",
        "    plt.show()"
      ],
      "metadata": {
        "id": "l5mbBfPoU3Hi"
      },
      "execution_count": null,
      "outputs": []
    },
    {
      "cell_type": "code",
      "source": [
        "from sklearn.decomposition import LatentDirichletAllocation\n",
        "lda = LatentDirichletAllocation(n_components=3, max_iter=5, learning_method=\"online\", learning_offset=50.0, random_state=0,)\n",
        "lda.fit(X_train)\n",
        "n_top_words = 5"
      ],
      "metadata": {
        "id": "U5ARZoo9IUfj"
      },
      "execution_count": 40,
      "outputs": []
    },
    {
      "cell_type": "code",
      "source": [
        "n_top_words = min(n_top_words, lda.n_components)"
      ],
      "metadata": {
        "id": "cGpTArh6W5yD"
      },
      "execution_count": 47,
      "outputs": []
    },
    {
      "cell_type": "code",
      "source": [
        "tf_feature_names = lda.get_feature_names_out()\n",
        "plot_top_words(lda, tf_feature_names, n_top_words, \"Topics in LDA model\")"
      ],
      "metadata": {
        "id": "CpjqHTzPS7PT",
        "outputId": "39c8e500-fbce-4031-f4e7-845349adef56",
        "colab": {
          "base_uri": "https://localhost:8080/",
          "height": 659
        }
      },
      "execution_count": 48,
      "outputs": [
        {
          "output_type": "error",
          "ename": "IndexError",
          "evalue": "index 223 is out of bounds for axis 0 with size 3",
          "traceback": [
            "\u001b[0;31m---------------------------------------------------------------------------\u001b[0m",
            "\u001b[0;31mIndexError\u001b[0m                                Traceback (most recent call last)",
            "\u001b[0;32m<ipython-input-48-0c791a93be55>\u001b[0m in \u001b[0;36m<cell line: 2>\u001b[0;34m()\u001b[0m\n\u001b[1;32m      1\u001b[0m \u001b[0mtf_feature_names\u001b[0m \u001b[0;34m=\u001b[0m \u001b[0mlda\u001b[0m\u001b[0;34m.\u001b[0m\u001b[0mget_feature_names_out\u001b[0m\u001b[0;34m(\u001b[0m\u001b[0;34m)\u001b[0m\u001b[0;34m\u001b[0m\u001b[0;34m\u001b[0m\u001b[0m\n\u001b[0;32m----> 2\u001b[0;31m \u001b[0mplot_top_words\u001b[0m\u001b[0;34m(\u001b[0m\u001b[0mlda\u001b[0m\u001b[0;34m,\u001b[0m \u001b[0mtf_feature_names\u001b[0m\u001b[0;34m,\u001b[0m \u001b[0mn_top_words\u001b[0m\u001b[0;34m,\u001b[0m \u001b[0;34m\"Topics in LDA model\"\u001b[0m\u001b[0;34m)\u001b[0m\u001b[0;34m\u001b[0m\u001b[0;34m\u001b[0m\u001b[0m\n\u001b[0m",
            "\u001b[0;32m<ipython-input-39-82218d66e70c>\u001b[0m in \u001b[0;36mplot_top_words\u001b[0;34m(model, feature_names, n_top_words, title)\u001b[0m\n\u001b[1;32m      4\u001b[0m     \u001b[0;32mfor\u001b[0m \u001b[0mtopic_idx\u001b[0m\u001b[0;34m,\u001b[0m \u001b[0mtopic\u001b[0m \u001b[0;32min\u001b[0m \u001b[0menumerate\u001b[0m\u001b[0;34m(\u001b[0m\u001b[0mmodel\u001b[0m\u001b[0;34m.\u001b[0m\u001b[0mcomponents_\u001b[0m\u001b[0;34m)\u001b[0m\u001b[0;34m:\u001b[0m\u001b[0;34m\u001b[0m\u001b[0;34m\u001b[0m\u001b[0m\n\u001b[1;32m      5\u001b[0m         \u001b[0mtop_features_ind\u001b[0m \u001b[0;34m=\u001b[0m \u001b[0mtopic\u001b[0m\u001b[0;34m.\u001b[0m\u001b[0margsort\u001b[0m\u001b[0;34m(\u001b[0m\u001b[0;34m)\u001b[0m\u001b[0;34m[\u001b[0m\u001b[0;34m-\u001b[0m\u001b[0mn_top_words\u001b[0m\u001b[0;34m:\u001b[0m\u001b[0;34m]\u001b[0m\u001b[0;34m\u001b[0m\u001b[0;34m\u001b[0m\u001b[0m\n\u001b[0;32m----> 6\u001b[0;31m         \u001b[0mtop_features\u001b[0m \u001b[0;34m=\u001b[0m \u001b[0mfeature_names\u001b[0m\u001b[0;34m[\u001b[0m\u001b[0mtop_features_ind\u001b[0m\u001b[0;34m]\u001b[0m\u001b[0;34m\u001b[0m\u001b[0;34m\u001b[0m\u001b[0m\n\u001b[0m\u001b[1;32m      7\u001b[0m         \u001b[0mweights\u001b[0m \u001b[0;34m=\u001b[0m \u001b[0mtopic\u001b[0m\u001b[0;34m[\u001b[0m\u001b[0mtop_features_ind\u001b[0m\u001b[0;34m]\u001b[0m\u001b[0;34m\u001b[0m\u001b[0;34m\u001b[0m\u001b[0m\n\u001b[1;32m      8\u001b[0m \u001b[0;34m\u001b[0m\u001b[0m\n",
            "\u001b[0;31mIndexError\u001b[0m: index 223 is out of bounds for axis 0 with size 3"
          ]
        },
        {
          "output_type": "display_data",
          "data": {
            "text/plain": [
              "<Figure size 1000x500 with 3 Axes>"
            ],
            "image/png": "[encoded data removed]"
          },
          "metadata": {}
        }
      ]
    },
    {
      "cell_type": "code",
      "source": [
        "from gensim.models.ldamodel import LdaModel\n",
        "topics_df1 = pd.DataFrame()\n",
        "topics_df2 = pd.DataFrame()\n",
        "topics_df3 = pd.DataFrame()\n",
        "\n",
        "for i, row_list in enumerate(LdaModel[all_words]):\n",
        "    row = row_list[0] if LdaModel.per_word_topics else row_list\n",
        "    row = sorted(row, key=lambda x: x[1], reverse=True)\n",
        "\n",
        "    for j, (topic_num, prop_topic) in enumerate(row):\n",
        "        if len(row) >= 3:\n",
        "            if j == 0:\n",
        "                topics_df1 = topics_df1.append(pd.Series([int(topic_num), prop_topic]), ignore_index=True)\n",
        "            elif j == 1:\n",
        "                topics_df2 = topics_df2.append(pd.Series([int(topic_num), prop_topic]), ignore_index=True)\n",
        "            elif j == 2:\n",
        "                topics_df3 = topics_df3.append(pd.Series([int(topic_num), prop_topic]), ignore_index=True)\n",
        "        else:\n",
        "            break\n"
      ],
      "metadata": {
        "id": "nngUDKRwMCpE",
        "outputId": "4da2bd66-2b16-4245-c5e3-09e5c47c1eb6",
        "colab": {
          "base_uri": "https://localhost:8080/",
          "height": 211
        }
      },
      "execution_count": 16,
      "outputs": [
        {
          "output_type": "error",
          "ename": "TypeError",
          "evalue": "'type' object is not subscriptable",
          "traceback": [
            "\u001b[0;31m---------------------------------------------------------------------------\u001b[0m",
            "\u001b[0;31mTypeError\u001b[0m                                 Traceback (most recent call last)",
            "\u001b[0;32m<ipython-input-16-7a7f8b701af0>\u001b[0m in \u001b[0;36m<cell line: 6>\u001b[0;34m()\u001b[0m\n\u001b[1;32m      4\u001b[0m \u001b[0mtopics_df3\u001b[0m \u001b[0;34m=\u001b[0m \u001b[0mpd\u001b[0m\u001b[0;34m.\u001b[0m\u001b[0mDataFrame\u001b[0m\u001b[0;34m(\u001b[0m\u001b[0;34m)\u001b[0m\u001b[0;34m\u001b[0m\u001b[0;34m\u001b[0m\u001b[0m\n\u001b[1;32m      5\u001b[0m \u001b[0;34m\u001b[0m\u001b[0m\n\u001b[0;32m----> 6\u001b[0;31m \u001b[0;32mfor\u001b[0m \u001b[0mi\u001b[0m\u001b[0;34m,\u001b[0m \u001b[0mrow_list\u001b[0m \u001b[0;32min\u001b[0m \u001b[0menumerate\u001b[0m\u001b[0;34m(\u001b[0m\u001b[0mLdaModel\u001b[0m\u001b[0;34m[\u001b[0m\u001b[0mall_words\u001b[0m\u001b[0;34m]\u001b[0m\u001b[0;34m)\u001b[0m\u001b[0;34m:\u001b[0m\u001b[0;34m\u001b[0m\u001b[0;34m\u001b[0m\u001b[0m\n\u001b[0m\u001b[1;32m      7\u001b[0m     \u001b[0mrow\u001b[0m \u001b[0;34m=\u001b[0m \u001b[0mrow_list\u001b[0m\u001b[0;34m[\u001b[0m\u001b[0;36m0\u001b[0m\u001b[0;34m]\u001b[0m \u001b[0;32mif\u001b[0m \u001b[0mLdaModel\u001b[0m\u001b[0;34m.\u001b[0m\u001b[0mper_word_topics\u001b[0m \u001b[0;32melse\u001b[0m \u001b[0mrow_list\u001b[0m\u001b[0;34m\u001b[0m\u001b[0;34m\u001b[0m\u001b[0m\n\u001b[1;32m      8\u001b[0m     \u001b[0mrow\u001b[0m \u001b[0;34m=\u001b[0m \u001b[0msorted\u001b[0m\u001b[0;34m(\u001b[0m\u001b[0mrow\u001b[0m\u001b[0;34m,\u001b[0m \u001b[0mkey\u001b[0m\u001b[0;34m=\u001b[0m\u001b[0;32mlambda\u001b[0m \u001b[0mx\u001b[0m\u001b[0;34m:\u001b[0m \u001b[0mx\u001b[0m\u001b[0;34m[\u001b[0m\u001b[0;36m1\u001b[0m\u001b[0;34m]\u001b[0m\u001b[0;34m,\u001b[0m \u001b[0mreverse\u001b[0m\u001b[0;34m=\u001b[0m\u001b[0;32mTrue\u001b[0m\u001b[0;34m)\u001b[0m\u001b[0;34m\u001b[0m\u001b[0;34m\u001b[0m\u001b[0m\n",
            "\u001b[0;31mTypeError\u001b[0m: 'type' object is not subscriptable"
          ]
        }
      ]
    }
  ]
}