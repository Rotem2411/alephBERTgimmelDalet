{
  "nbformat": 4,
  "nbformat_minor": 0,
  "metadata": {
    "colab": {
      "provenance": [],
      "authorship_tag": "ABX9TyMusERgoSoCBTPhh/owy05x",
      "include_colab_link": true
    },
    "kernelspec": {
      "name": "python3",
      "display_name": "Python 3"
    },
    "language_info": {
      "name": "python"
    }
  },
  "cells": [
    {
      "cell_type": "markdown",
      "metadata": {
        "id": "view-in-github",
        "colab_type": "text"
      },
      "source": [
        "<a href=\"https://colab.research.google.com/github/Rotem2411/alephBERTgimmelDalet/blob/main/Latent_Dirichlet_Allocation.ipynb\" target=\"_parent\"><img src=\"https://colab.research.google.com/assets/colab-badge.svg\" alt=\"Open In Colab\"/></a>"
      ]
    },
    {
      "cell_type": "code",
      "source": [
        "#if necessary install below\n",
        "!pip install pyLDAvis"
      ],
      "metadata": {
        "colab": {
          "base_uri": "https://localhost:8080/"
        },
        "id": "-4uzmzFrt3DU",
        "outputId": "ca0265f4-34a3-40cc-dc48-3ee94e0c827c"
      },
      "execution_count": 1,
      "outputs": [
        {
          "output_type": "stream",
          "name": "stdout",
          "text": [
            "Requirement already satisfied: pyLDAvis in /usr/local/lib/python3.10/dist-packages (3.4.1)\n",
            "Requirement already satisfied: numpy>=1.24.2 in /usr/local/lib/python3.10/dist-packages (from pyLDAvis) (1.25.2)\n",
            "Requirement already satisfied: scipy in /usr/local/lib/python3.10/dist-packages (from pyLDAvis) (1.11.4)\n",
            "Requirement already satisfied: pandas>=2.0.0 in /usr/local/lib/python3.10/dist-packages (from pyLDAvis) (2.0.3)\n",
            "Requirement already satisfied: joblib>=1.2.0 in /usr/local/lib/python3.10/dist-packages (from pyLDAvis) (1.4.2)\n",
            "Requirement already satisfied: jinja2 in /usr/local/lib/python3.10/dist-packages (from pyLDAvis) (3.1.4)\n",
            "Requirement already satisfied: numexpr in /usr/local/lib/python3.10/dist-packages (from pyLDAvis) (2.10.0)\n",
            "Requirement already satisfied: funcy in /usr/local/lib/python3.10/dist-packages (from pyLDAvis) (2.0)\n",
            "Requirement already satisfied: scikit-learn>=1.0.0 in /usr/local/lib/python3.10/dist-packages (from pyLDAvis) (1.2.2)\n",
            "Requirement already satisfied: gensim in /usr/local/lib/python3.10/dist-packages (from pyLDAvis) (4.3.2)\n",
            "Requirement already satisfied: setuptools in /usr/local/lib/python3.10/dist-packages (from pyLDAvis) (67.7.2)\n",
            "Requirement already satisfied: python-dateutil>=2.8.2 in /usr/local/lib/python3.10/dist-packages (from pandas>=2.0.0->pyLDAvis) (2.8.2)\n",
            "Requirement already satisfied: pytz>=2020.1 in /usr/local/lib/python3.10/dist-packages (from pandas>=2.0.0->pyLDAvis) (2023.4)\n",
            "Requirement already satisfied: tzdata>=2022.1 in /usr/local/lib/python3.10/dist-packages (from pandas>=2.0.0->pyLDAvis) (2024.1)\n",
            "Requirement already satisfied: threadpoolctl>=2.0.0 in /usr/local/lib/python3.10/dist-packages (from scikit-learn>=1.0.0->pyLDAvis) (3.5.0)\n",
            "Requirement already satisfied: smart-open>=1.8.1 in /usr/local/lib/python3.10/dist-packages (from gensim->pyLDAvis) (6.4.0)\n",
            "Requirement already satisfied: MarkupSafe>=2.0 in /usr/local/lib/python3.10/dist-packages (from jinja2->pyLDAvis) (2.1.5)\n",
            "Requirement already satisfied: six>=1.5 in /usr/local/lib/python3.10/dist-packages (from python-dateutil>=2.8.2->pandas>=2.0.0->pyLDAvis) (1.16.0)\n"
          ]
        }
      ]
    },
    {
      "cell_type": "code",
      "execution_count": 2,
      "metadata": {
        "colab": {
          "base_uri": "https://localhost:8080/"
        },
        "id": "Xa1zuxZMwtJ9",
        "outputId": "04656e95-1cee-476a-abb9-c9b695a30986"
      },
      "outputs": [
        {
          "output_type": "stream",
          "name": "stderr",
          "text": [
            "[nltk_data] Downloading package stopwords to /root/nltk_data...\n",
            "[nltk_data]   Package stopwords is already up-to-date!\n",
            "[nltk_data] Downloading package punkt to /root/nltk_data...\n",
            "[nltk_data]   Package punkt is already up-to-date!\n",
            "[nltk_data] Downloading package wordnet to /root/nltk_data...\n",
            "[nltk_data]   Package wordnet is already up-to-date!\n"
          ]
        }
      ],
      "source": [
        "import csv\n",
        "import pandas as pd\n",
        "import numpy as np\n",
        "import nltk\n",
        "nltk.download('stopwords')\n",
        "nltk.download('punkt')\n",
        "nltk.download('wordnet')\n",
        "from sklearn.feature_extraction.text import TfidfVectorizer, CountVectorizer\n",
        "from sklearn.decomposition import LatentDirichletAllocation\n",
        "from sklearn.model_selection import GridSearchCV\n",
        "import pyLDAvis\n",
        "import pyLDAvis.gensim_models\n",
        "from gensim.models.ldamodel import LdaModel\n",
        "from gensim import corpora\n",
        "from collections import defaultdict\n",
        "from gensim import models\n",
        "from pprint import pprint"
      ]
    },
    {
      "cell_type": "code",
      "source": [
        "file_path = 'sentiments.csv'\n",
        "df = pd.read_csv(file_path)"
      ],
      "metadata": {
        "id": "pTnc_nCww62h",
        "colab": {
          "base_uri": "https://localhost:8080/"
        },
        "outputId": "043d015f-eff7-4ca2-cb98-822515751f69"
      },
      "execution_count": 3,
      "outputs": [
        {
          "output_type": "stream",
          "name": "stderr",
          "text": [
            "/usr/local/lib/python3.10/dist-packages/ipykernel/ipkernel.py:283: DeprecationWarning: `should_run_async` will not call `transform_cell` automatically in the future. Please pass the result to `transformed_cell` argument and any exception that happen during thetransform in `preprocessing_exc_tuple` in IPython 7.17 and above.\n",
            "  and should_run_async(code)\n"
          ]
        }
      ]
    },
    {
      "cell_type": "code",
      "source": [
        "import warnings\n",
        "\n",
        "# Filter out DeprecationWarning\n",
        "warnings.filterwarnings(\"ignore\", category=DeprecationWarning, module=\"ipykernel\")"
      ],
      "metadata": {
        "id": "s5-FqjJBHo6A"
      },
      "execution_count": 5,
      "outputs": []
    },
    {
      "cell_type": "markdown",
      "source": [
        "Take a peek of the data"
      ],
      "metadata": {
        "id": "e5pUNBzdxSPE"
      }
    },
    {
      "cell_type": "code",
      "source": [
        "num_samples = len(df)\n",
        "print(\"Total number of samples: \", num_samples)\n",
        "print(df.head(10))"
      ],
      "metadata": {
        "colab": {
          "base_uri": "https://localhost:8080/"
        },
        "id": "KwZx-rShw8N7",
        "outputId": "576068d7-d4be-4a1e-ad76-e57633bbb3e0"
      },
      "execution_count": null,
      "outputs": [
        {
          "output_type": "stream",
          "name": "stdout",
          "text": [
            "Total number of samples:  75151\n",
            "   id                                               text tag category class  \\\n",
            "0   1                    האריות של הצל חזק פה בתגובות...   ש  ECONOMY    b1   \n",
            "1   2  זמרת תעשייה רק מפרסומות מפורסמת\\n  אבל אין קהל...   ש  ECONOMY    b1   \n",
            "2   4  את לא יורקת לבאר שממנה שתית. יפה יפה, אבל חסרת...   ש  ECONOMY    b1   \n",
            "3   5  שמעון\\n  משתתף בפרסומת למילקי במקום לעורר מודע...   ש  ECONOMY    b1   \n",
            "4   6  הצחקתם אותי\\n  מה כל כך אמייזינג בחברה עם אפס ...   ש  ECONOMY    b1   \n",
            "5   7  איסו חברת הייטק מצליחה צריכה פרסומות שיבואו לע...   ש  ECONOMY    b1   \n",
            "6   8           לא מכיר אותה ולא שמעתי אפילו שיר אחד שלה   ש  ECONOMY    b1   \n",
            "7   9  וואללה לא יודע מה מתלהבים מנגה ארז. זה בכלל לא...   ש  ECONOMY    b1   \n",
            "8  10  אהובה שגיא\\n  נגה גדולה.זמרת מעולה.פרסומת מדלי...   ח  ECONOMY    b1   \n",
            "9  11  הפרסומת של אמדוקס נראית מאוד קודרת ואפורה, כמו...   ש  ECONOMY    b1   \n",
            "\n",
            "   total_tags  selected_tag  polarity  \n",
            "0           2             2       1.0  \n",
            "1           2             2       1.0  \n",
            "2           2             2       1.0  \n",
            "3           2             2       1.0  \n",
            "4           2             2       1.0  \n",
            "5           2             2       1.0  \n",
            "6           2             2       1.0  \n",
            "7           2             2       1.0  \n",
            "8           2             2       1.0  \n",
            "9           2             2       1.0  \n"
          ]
        }
      ]
    },
    {
      "cell_type": "markdown",
      "source": [
        "# **Data Pre-processing**\n",
        "\n",
        "We will perform the following steps:\n",
        "\n",
        "\n",
        "*   **Tokenization**: Split the text into sentences and the sentences into words\n",
        "*   Remove **punctuation**.\n",
        "*   All **stopwords** are removed.\n",
        "*   Words are **lemmatized** — words in third person are changed to first person and verbs in past and future tenses are changed into present.\n",
        "*   Words are **hebrew** — words with english letters or numbers are removed.\n",
        "*   Words are more than one letter"
      ],
      "metadata": {
        "id": "tUw18fkSxXHD"
      }
    },
    {
      "cell_type": "code",
      "source": [
        "def contains_english_letter(word):\n",
        "    return any(c.isascii() for c in word)\n",
        "def cleanwords(text):\n",
        "    wn = nltk.WordNetLemmatizer()\n",
        "    stopword = nltk.corpus.stopwords.words('hebrew')\n",
        "    tokens = nltk.word_tokenize(text)\n",
        "    no_stopwords = [word for word in tokens if word not in stopword]\n",
        "    no_alpha = [word for word in no_stopwords if word.isalpha()]\n",
        "    no_ascii = [word for word in no_alpha if not contains_english_letter(word)]\n",
        "    no_one_letter = [word for word in no_ascii if len(word) > 1]\n",
        "    lemm_text = [wn.lemmatize(word) for word in no_one_letter]\n",
        "    return lemm_text"
      ],
      "metadata": {
        "id": "h3HC2zlyw9v7"
      },
      "execution_count": 6,
      "outputs": []
    },
    {
      "cell_type": "code",
      "source": [
        "text = df['text'].tolist()\n",
        "clean_text = [cleanwords(t) for t in text]"
      ],
      "metadata": {
        "id": "6ByzBhTQom0e"
      },
      "execution_count": 7,
      "outputs": []
    },
    {
      "cell_type": "markdown",
      "source": [
        "Comparison of the data before and after the preprocessing"
      ],
      "metadata": {
        "id": "H_evptWS_Hgz"
      }
    },
    {
      "cell_type": "code",
      "source": [
        "text_comparison = pd.DataFrame({\n",
        "    'text_before_preprocessed': text,\n",
        "    'text_after_preprocessed': clean_text,})\n",
        "display(text_comparison.head(10))"
      ],
      "metadata": {
        "colab": {
          "base_uri": "https://localhost:8080/",
          "height": 206
        },
        "id": "E8blzeW2xHVl",
        "outputId": "ae92a2b2-799e-4f03-c9d4-870060e7bbea"
      },
      "execution_count": 58,
      "outputs": [
        {
          "output_type": "display_data",
          "data": {
            "text/plain": [
              "                            text_before_preprocessed  \\\n",
              "0                    האריות של הצל חזק פה בתגובות...   \n",
              "1  זמרת תעשייה רק מפרסומות מפורסמת\\n  אבל אין קהל...   \n",
              "2  את לא יורקת לבאר שממנה שתית. יפה יפה, אבל חסרת...   \n",
              "3  שמעון\\n  משתתף בפרסומת למילקי במקום לעורר מודע...   \n",
              "4  הצחקתם אותי\\n  מה כל כך אמייזינג בחברה עם אפס ...   \n",
              "\n",
              "                             text_after_preprocessed  \n",
              "0                        [האריות, הצל, חזק, בתגובות]  \n",
              "1         [זמרת, תעשייה, קהל, אמיתי, שיבוא, להופעות]  \n",
              "2          [לבאר, שממנה, יפה, יפה, חסרת, עמוד, שדרה]  \n",
              "3  [שמעון, משתתף, בפרסומת, במקום, לעורר, מודעות, ...  \n",
              "4              [הצחקתם, בחברה, אפס, נאמנות, לעובדים]  "
            ],
            "text/html": [
              "\n",
              "  <div id=\"df-568f68df-b611-4016-a799-65d2cc1b0586\" class=\"colab-df-container\">\n",
              "    <div>\n",
              "<style scoped>\n",
              "    .dataframe tbody tr th:only-of-type {\n",
              "        vertical-align: middle;\n",
              "    }\n",
              "\n",
              "    .dataframe tbody tr th {\n",
              "        vertical-align: top;\n",
              "    }\n",
              "\n",
              "    .dataframe thead th {\n",
              "        text-align: right;\n",
              "    }\n",
              "</style>\n",
              "<table border=\"1\" class=\"dataframe\">\n",
              "  <thead>\n",
              "    <tr style=\"text-align: right;\">\n",
              "      <th></th>\n",
              "      <th>text_before_preprocessed</th>\n",
              "      <th>text_after_preprocessed</th>\n",
              "    </tr>\n",
              "  </thead>\n",
              "  <tbody>\n",
              "    <tr>\n",
              "      <th>0</th>\n",
              "      <td>האריות של הצל חזק פה בתגובות...</td>\n",
              "      <td>[האריות, הצל, חזק, בתגובות]</td>\n",
              "    </tr>\n",
              "    <tr>\n",
              "      <th>1</th>\n",
              "      <td>זמרת תעשייה רק מפרסומות מפורסמת\\n  אבל אין קהל...</td>\n",
              "      <td>[זמרת, תעשייה, קהל, אמיתי, שיבוא, להופעות]</td>\n",
              "    </tr>\n",
              "    <tr>\n",
              "      <th>2</th>\n",
              "      <td>את לא יורקת לבאר שממנה שתית. יפה יפה, אבל חסרת...</td>\n",
              "      <td>[לבאר, שממנה, יפה, יפה, חסרת, עמוד, שדרה]</td>\n",
              "    </tr>\n",
              "    <tr>\n",
              "      <th>3</th>\n",
              "      <td>שמעון\\n  משתתף בפרסומת למילקי במקום לעורר מודע...</td>\n",
              "      <td>[שמעון, משתתף, בפרסומת, במקום, לעורר, מודעות, ...</td>\n",
              "    </tr>\n",
              "    <tr>\n",
              "      <th>4</th>\n",
              "      <td>הצחקתם אותי\\n  מה כל כך אמייזינג בחברה עם אפס ...</td>\n",
              "      <td>[הצחקתם, בחברה, אפס, נאמנות, לעובדים]</td>\n",
              "    </tr>\n",
              "  </tbody>\n",
              "</table>\n",
              "</div>\n",
              "    <div class=\"colab-df-buttons\">\n",
              "\n",
              "  <div class=\"colab-df-container\">\n",
              "    <button class=\"colab-df-convert\" onclick=\"convertToInteractive('df-568f68df-b611-4016-a799-65d2cc1b0586')\"\n",
              "            title=\"Convert this dataframe to an interactive table.\"\n",
              "            style=\"display:none;\">\n",
              "\n",
              "  <svg xmlns=\"http://www.w3.org/2000/svg\" height=\"24px\" viewBox=\"0 -960 960 960\">\n",
              "    <path d=\"M120-120v-720h720v720H120Zm60-500h600v-160H180v160Zm220 220h160v-160H400v160Zm0 220h160v-160H400v160ZM180-400h160v-160H180v160Zm440 0h160v-160H620v160ZM180-180h160v-160H180v160Zm440 0h160v-160H620v160Z\"/>\n",
              "  </svg>\n",
              "    </button>\n",
              "\n",
              "  <style>\n",
              "    .colab-df-container {\n",
              "      display:flex;\n",
              "      gap: 12px;\n",
              "    }\n",
              "\n",
              "    .colab-df-convert {\n",
              "      background-color: #E8F0FE;\n",
              "      border: none;\n",
              "      border-radius: 50%;\n",
              "      cursor: pointer;\n",
              "      display: none;\n",
              "      fill: #1967D2;\n",
              "      height: 32px;\n",
              "      padding: 0 0 0 0;\n",
              "      width: 32px;\n",
              "    }\n",
              "\n",
              "    .colab-df-convert:hover {\n",
              "      background-color: #E2EBFA;\n",
              "      box-shadow: 0px 1px 2px rgba(60, 64, 67, 0.3), 0px 1px 3px 1px rgba(60, 64, 67, 0.15);\n",
              "      fill: #174EA6;\n",
              "    }\n",
              "\n",
              "    .colab-df-buttons div {\n",
              "      margin-bottom: 4px;\n",
              "    }\n",
              "\n",
              "    [theme=dark] .colab-df-convert {\n",
              "      background-color: #3B4455;\n",
              "      fill: #D2E3FC;\n",
              "    }\n",
              "\n",
              "    [theme=dark] .colab-df-convert:hover {\n",
              "      background-color: #434B5C;\n",
              "      box-shadow: 0px 1px 3px 1px rgba(0, 0, 0, 0.15);\n",
              "      filter: drop-shadow(0px 1px 2px rgba(0, 0, 0, 0.3));\n",
              "      fill: #FFFFFF;\n",
              "    }\n",
              "  </style>\n",
              "\n",
              "    <script>\n",
              "      const buttonEl =\n",
              "        document.querySelector('#df-568f68df-b611-4016-a799-65d2cc1b0586 button.colab-df-convert');\n",
              "      buttonEl.style.display =\n",
              "        google.colab.kernel.accessAllowed ? 'block' : 'none';\n",
              "\n",
              "      async function convertToInteractive(key) {\n",
              "        const element = document.querySelector('#df-568f68df-b611-4016-a799-65d2cc1b0586');\n",
              "        const dataTable =\n",
              "          await google.colab.kernel.invokeFunction('convertToInteractive',\n",
              "                                                    [key], {});\n",
              "        if (!dataTable) return;\n",
              "\n",
              "        const docLinkHtml = 'Like what you see? Visit the ' +\n",
              "          '<a target=\"_blank\" href=https://colab.research.google.com/notebooks/data_table.ipynb>data table notebook</a>'\n",
              "          + ' to learn more about interactive tables.';\n",
              "        element.innerHTML = '';\n",
              "        dataTable['output_type'] = 'display_data';\n",
              "        await google.colab.output.renderOutput(dataTable, element);\n",
              "        const docLink = document.createElement('div');\n",
              "        docLink.innerHTML = docLinkHtml;\n",
              "        element.appendChild(docLink);\n",
              "      }\n",
              "    </script>\n",
              "  </div>\n",
              "\n",
              "\n",
              "<div id=\"df-813ecf2b-ccb8-4d58-8823-eb3f6f1e9241\">\n",
              "  <button class=\"colab-df-quickchart\" onclick=\"quickchart('df-813ecf2b-ccb8-4d58-8823-eb3f6f1e9241')\"\n",
              "            title=\"Suggest charts\"\n",
              "            style=\"display:none;\">\n",
              "\n",
              "<svg xmlns=\"http://www.w3.org/2000/svg\" height=\"24px\"viewBox=\"0 0 24 24\"\n",
              "     width=\"24px\">\n",
              "    <g>\n",
              "        <path d=\"M19 3H5c-1.1 0-2 .9-2 2v14c0 1.1.9 2 2 2h14c1.1 0 2-.9 2-2V5c0-1.1-.9-2-2-2zM9 17H7v-7h2v7zm4 0h-2V7h2v10zm4 0h-2v-4h2v4z\"/>\n",
              "    </g>\n",
              "</svg>\n",
              "  </button>\n",
              "\n",
              "<style>\n",
              "  .colab-df-quickchart {\n",
              "      --bg-color: #E8F0FE;\n",
              "      --fill-color: #1967D2;\n",
              "      --hover-bg-color: #E2EBFA;\n",
              "      --hover-fill-color: #174EA6;\n",
              "      --disabled-fill-color: #AAA;\n",
              "      --disabled-bg-color: #DDD;\n",
              "  }\n",
              "\n",
              "  [theme=dark] .colab-df-quickchart {\n",
              "      --bg-color: #3B4455;\n",
              "      --fill-color: #D2E3FC;\n",
              "      --hover-bg-color: #434B5C;\n",
              "      --hover-fill-color: #FFFFFF;\n",
              "      --disabled-bg-color: #3B4455;\n",
              "      --disabled-fill-color: #666;\n",
              "  }\n",
              "\n",
              "  .colab-df-quickchart {\n",
              "    background-color: var(--bg-color);\n",
              "    border: none;\n",
              "    border-radius: 50%;\n",
              "    cursor: pointer;\n",
              "    display: none;\n",
              "    fill: var(--fill-color);\n",
              "    height: 32px;\n",
              "    padding: 0;\n",
              "    width: 32px;\n",
              "  }\n",
              "\n",
              "  .colab-df-quickchart:hover {\n",
              "    background-color: var(--hover-bg-color);\n",
              "    box-shadow: 0 1px 2px rgba(60, 64, 67, 0.3), 0 1px 3px 1px rgba(60, 64, 67, 0.15);\n",
              "    fill: var(--button-hover-fill-color);\n",
              "  }\n",
              "\n",
              "  .colab-df-quickchart-complete:disabled,\n",
              "  .colab-df-quickchart-complete:disabled:hover {\n",
              "    background-color: var(--disabled-bg-color);\n",
              "    fill: var(--disabled-fill-color);\n",
              "    box-shadow: none;\n",
              "  }\n",
              "\n",
              "  .colab-df-spinner {\n",
              "    border: 2px solid var(--fill-color);\n",
              "    border-color: transparent;\n",
              "    border-bottom-color: var(--fill-color);\n",
              "    animation:\n",
              "      spin 1s steps(1) infinite;\n",
              "  }\n",
              "\n",
              "  @keyframes spin {\n",
              "    0% {\n",
              "      border-color: transparent;\n",
              "      border-bottom-color: var(--fill-color);\n",
              "      border-left-color: var(--fill-color);\n",
              "    }\n",
              "    20% {\n",
              "      border-color: transparent;\n",
              "      border-left-color: var(--fill-color);\n",
              "      border-top-color: var(--fill-color);\n",
              "    }\n",
              "    30% {\n",
              "      border-color: transparent;\n",
              "      border-left-color: var(--fill-color);\n",
              "      border-top-color: var(--fill-color);\n",
              "      border-right-color: var(--fill-color);\n",
              "    }\n",
              "    40% {\n",
              "      border-color: transparent;\n",
              "      border-right-color: var(--fill-color);\n",
              "      border-top-color: var(--fill-color);\n",
              "    }\n",
              "    60% {\n",
              "      border-color: transparent;\n",
              "      border-right-color: var(--fill-color);\n",
              "    }\n",
              "    80% {\n",
              "      border-color: transparent;\n",
              "      border-right-color: var(--fill-color);\n",
              "      border-bottom-color: var(--fill-color);\n",
              "    }\n",
              "    90% {\n",
              "      border-color: transparent;\n",
              "      border-bottom-color: var(--fill-color);\n",
              "    }\n",
              "  }\n",
              "</style>\n",
              "\n",
              "  <script>\n",
              "    async function quickchart(key) {\n",
              "      const quickchartButtonEl =\n",
              "        document.querySelector('#' + key + ' button');\n",
              "      quickchartButtonEl.disabled = true;  // To prevent multiple clicks.\n",
              "      quickchartButtonEl.classList.add('colab-df-spinner');\n",
              "      try {\n",
              "        const charts = await google.colab.kernel.invokeFunction(\n",
              "            'suggestCharts', [key], {});\n",
              "      } catch (error) {\n",
              "        console.error('Error during call to suggestCharts:', error);\n",
              "      }\n",
              "      quickchartButtonEl.classList.remove('colab-df-spinner');\n",
              "      quickchartButtonEl.classList.add('colab-df-quickchart-complete');\n",
              "    }\n",
              "    (() => {\n",
              "      let quickchartButtonEl =\n",
              "        document.querySelector('#df-813ecf2b-ccb8-4d58-8823-eb3f6f1e9241 button');\n",
              "      quickchartButtonEl.style.display =\n",
              "        google.colab.kernel.accessAllowed ? 'block' : 'none';\n",
              "    })();\n",
              "  </script>\n",
              "</div>\n",
              "\n",
              "    </div>\n",
              "  </div>\n"
            ],
            "application/vnd.google.colaboratory.intrinsic+json": {
              "type": "dataframe",
              "summary": "{\n  \"name\": \"display(text_comparison\",\n  \"rows\": 5,\n  \"fields\": [\n    {\n      \"column\": \"text_before_preprocessed\",\n      \"properties\": {\n        \"dtype\": \"string\",\n        \"num_unique_values\": 5,\n        \"samples\": [\n          \"\\u05d6\\u05de\\u05e8\\u05ea \\u05ea\\u05e2\\u05e9\\u05d9\\u05d9\\u05d4 \\u05e8\\u05e7 \\u05de\\u05e4\\u05e8\\u05e1\\u05d5\\u05de\\u05d5\\u05ea \\u05de\\u05e4\\u05d5\\u05e8\\u05e1\\u05de\\u05ea\\n  \\u05d0\\u05d1\\u05dc \\u05d0\\u05d9\\u05df \\u05e7\\u05d4\\u05dc \\u05d0\\u05de\\u05d9\\u05ea\\u05d9 \\u05e9\\u05d9\\u05d1\\u05d5\\u05d0 \\u05dc\\u05d4\\u05d5\\u05e4\\u05e2\\u05d5\\u05ea\",\n          \"\\u05d4\\u05e6\\u05d7\\u05e7\\u05ea\\u05dd \\u05d0\\u05d5\\u05ea\\u05d9\\n  \\u05de\\u05d4 \\u05db\\u05dc \\u05db\\u05da \\u05d0\\u05de\\u05d9\\u05d9\\u05d6\\u05d9\\u05e0\\u05d2 \\u05d1\\u05d7\\u05d1\\u05e8\\u05d4 \\u05e2\\u05dd \\u05d0\\u05e4\\u05e1 \\u05e0\\u05d0\\u05de\\u05e0\\u05d5\\u05ea \\u05dc\\u05e2\\u05d5\\u05d1\\u05d3\\u05d9\\u05dd \\u05e9\\u05dc\\u05d4?\",\n          \"\\u05d0\\u05ea \\u05dc\\u05d0 \\u05d9\\u05d5\\u05e8\\u05e7\\u05ea \\u05dc\\u05d1\\u05d0\\u05e8 \\u05e9\\u05de\\u05de\\u05e0\\u05d4 \\u05e9\\u05ea\\u05d9\\u05ea. \\u05d9\\u05e4\\u05d4 \\u05d9\\u05e4\\u05d4, \\u05d0\\u05d1\\u05dc \\u05d7\\u05e1\\u05e8\\u05ea \\u05e2\\u05de\\u05d5\\u05d3 \\u05e9\\u05d3\\u05e8\\u05d4.\"\n        ],\n        \"semantic_type\": \"\",\n        \"description\": \"\"\n      }\n    },\n    {\n      \"column\": \"text_after_preprocessed\",\n      \"properties\": {\n        \"dtype\": \"object\",\n        \"semantic_type\": \"\",\n        \"description\": \"\"\n      }\n    }\n  ]\n}"
            }
          },
          "metadata": {}
        }
      ]
    },
    {
      "cell_type": "markdown",
      "source": [
        "Filter out words that occur less than 10 documents, or more than 50% of the documents."
      ],
      "metadata": {
        "id": "kbKFM2O3ZO82"
      }
    },
    {
      "cell_type": "code",
      "source": [
        "dictionary = corpora.Dictionary(clean_text)\n",
        "dictionary.filter_extremes(no_below=10, no_above=0.5)\n",
        "corpus = [dictionary.doc2bow(text) for text in clean_text]\n",
        "print(\"Num. of words in the dictionary:\", len(dictionary), \"\\nNum. of docs:\", len(corpus))"
      ],
      "metadata": {
        "id": "gvYdWJMeZFLJ",
        "outputId": "58eac4d3-bdcf-4800-9143-6eb235883982",
        "colab": {
          "base_uri": "https://localhost:8080/"
        }
      },
      "execution_count": 8,
      "outputs": [
        {
          "output_type": "stream",
          "name": "stdout",
          "text": [
            "Num. of words in the dictionary: 12429 \n",
            "Num. of docs: 75151\n"
          ]
        }
      ]
    },
    {
      "cell_type": "markdown",
      "source": [
        "# **TF-IDF**"
      ],
      "metadata": {
        "id": "3yepLp6Ww2a2"
      }
    },
    {
      "cell_type": "code",
      "source": [
        "tfidfmodel = models.TfidfModel(corpus, normalize=True)\n",
        "tfidf_vector = tfidfmodel[corpus]"
      ],
      "metadata": {
        "id": "UN4P_IhhqbnJ"
      },
      "execution_count": 9,
      "outputs": []
    },
    {
      "cell_type": "markdown",
      "source": [
        "# **LDA**"
      ],
      "metadata": {
        "id": "L6kqC3F2w9Un"
      }
    },
    {
      "cell_type": "code",
      "source": [
        "ldamodel = LdaModel(corpus, id2word=dictionary, num_topics=4)\n",
        "lda_vector = ldamodel[tfidf_vector]"
      ],
      "metadata": {
        "id": "lQMwNitlWrPg"
      },
      "execution_count": 10,
      "outputs": []
    },
    {
      "cell_type": "markdown",
      "source": [
        "Dominante topic"
      ],
      "metadata": {
        "id": "IZGwHiRtdhre"
      }
    },
    {
      "cell_type": "code",
      "source": [
        "vis = pyLDAvis.gensim_models.prepare(ldamodel, corpus, dictionary=ldamodel.id2word)\n",
        "pyLDAvis.save_html(vis, 'LDA_Visualization.html')"
      ],
      "metadata": {
        "id": "GSh4UuB_rpqi"
      },
      "execution_count": 11,
      "outputs": []
    },
    {
      "cell_type": "markdown",
      "source": [
        "Dominante topic for each document"
      ],
      "metadata": {
        "id": "U1EIVJud8Der"
      }
    },
    {
      "cell_type": "code",
      "source": [
        "topicnames = [\"Topic\" + str(i) for i in range(ldamodel.num_topics)]\n",
        "docnames = [\"Doc\" + str(i) for i in range(len(clean_text))]\n",
        "Data = []\n",
        "for row in lda_vector:\n",
        "    Data.extend(row)\n",
        "Data = [row[1] for row in Data]\n",
        "Data = np.array(Data).reshape(len(docnames), len(topicnames))\n",
        "df_document_topic = pd.DataFrame(data=Data, columns=topicnames, index=docnames)\n",
        "df_document_topic['dominante_topic'] = np.argmax(df_document_topic.values, axis=1) # Get dominante topic for each document\n",
        "def make_bold(val):\n",
        "  weight = 700 if val > .25 else 400\n",
        "  return \"font-weight: {weight}\".format(weight=weight)\n",
        "display(df_document_topic.head(15).style.applymap(make_bold))"
      ],
      "metadata": {
        "id": "-8qP1it8cZVm",
        "outputId": "a6cb0409-87fd-4c27-d502-f470ce791938",
        "colab": {
          "base_uri": "https://localhost:8080/",
          "height": 519
        }
      },
      "execution_count": 32,
      "outputs": [
        {
          "output_type": "display_data",
          "data": {
            "text/plain": [
              "<pandas.io.formats.style.Styler at 0x7acdf4e8acb0>"
            ],
            "text/html": [
              "<style type=\"text/css\">\n",
              "#T_d1adb_row0_col0, #T_d1adb_row0_col1, #T_d1adb_row0_col2, #T_d1adb_row1_col0, #T_d1adb_row1_col2, #T_d1adb_row1_col3, #T_d1adb_row2_col1, #T_d1adb_row2_col3, #T_d1adb_row2_col4, #T_d1adb_row3_col0, #T_d1adb_row3_col2, #T_d1adb_row3_col3, #T_d1adb_row4_col1, #T_d1adb_row4_col2, #T_d1adb_row4_col3, #T_d1adb_row4_col4, #T_d1adb_row5_col2, #T_d1adb_row5_col3, #T_d1adb_row6_col0, #T_d1adb_row6_col2, #T_d1adb_row6_col3, #T_d1adb_row7_col0, #T_d1adb_row7_col1, #T_d1adb_row7_col3, #T_d1adb_row8_col0, #T_d1adb_row8_col3, #T_d1adb_row9_col0, #T_d1adb_row9_col3, #T_d1adb_row10_col0, #T_d1adb_row10_col3, #T_d1adb_row11_col0, #T_d1adb_row11_col2, #T_d1adb_row12_col0, #T_d1adb_row12_col1, #T_d1adb_row12_col3, #T_d1adb_row13_col0, #T_d1adb_row13_col1, #T_d1adb_row13_col3, #T_d1adb_row14_col0, #T_d1adb_row14_col1, #T_d1adb_row14_col2 {\n",
              "  font-weight: 400;\n",
              "}\n",
              "#T_d1adb_row0_col3, #T_d1adb_row0_col4, #T_d1adb_row1_col1, #T_d1adb_row1_col4, #T_d1adb_row2_col0, #T_d1adb_row2_col2, #T_d1adb_row3_col1, #T_d1adb_row3_col4, #T_d1adb_row4_col0, #T_d1adb_row5_col0, #T_d1adb_row5_col1, #T_d1adb_row5_col4, #T_d1adb_row6_col1, #T_d1adb_row6_col4, #T_d1adb_row7_col2, #T_d1adb_row7_col4, #T_d1adb_row8_col1, #T_d1adb_row8_col2, #T_d1adb_row8_col4, #T_d1adb_row9_col1, #T_d1adb_row9_col2, #T_d1adb_row9_col4, #T_d1adb_row10_col1, #T_d1adb_row10_col2, #T_d1adb_row10_col4, #T_d1adb_row11_col1, #T_d1adb_row11_col3, #T_d1adb_row11_col4, #T_d1adb_row12_col2, #T_d1adb_row12_col4, #T_d1adb_row13_col2, #T_d1adb_row13_col4, #T_d1adb_row14_col3, #T_d1adb_row14_col4 {\n",
              "  font-weight: 700;\n",
              "}\n",
              "</style>\n",
              "<table id=\"T_d1adb\" class=\"dataframe\">\n",
              "  <thead>\n",
              "    <tr>\n",
              "      <th class=\"blank level0\" >&nbsp;</th>\n",
              "      <th id=\"T_d1adb_level0_col0\" class=\"col_heading level0 col0\" >Topic0</th>\n",
              "      <th id=\"T_d1adb_level0_col1\" class=\"col_heading level0 col1\" >Topic1</th>\n",
              "      <th id=\"T_d1adb_level0_col2\" class=\"col_heading level0 col2\" >Topic2</th>\n",
              "      <th id=\"T_d1adb_level0_col3\" class=\"col_heading level0 col3\" >Topic3</th>\n",
              "      <th id=\"T_d1adb_level0_col4\" class=\"col_heading level0 col4\" >dominante_topic</th>\n",
              "    </tr>\n",
              "  </thead>\n",
              "  <tbody>\n",
              "    <tr>\n",
              "      <th id=\"T_d1adb_level0_row0\" class=\"row_heading level0 row0\" >Doc0</th>\n",
              "      <td id=\"T_d1adb_row0_col0\" class=\"data row0 col0\" >0.084790</td>\n",
              "      <td id=\"T_d1adb_row0_col1\" class=\"data row0 col1\" >0.085502</td>\n",
              "      <td id=\"T_d1adb_row0_col2\" class=\"data row0 col2\" >0.233668</td>\n",
              "      <td id=\"T_d1adb_row0_col3\" class=\"data row0 col3\" >0.596040</td>\n",
              "      <td id=\"T_d1adb_row0_col4\" class=\"data row0 col4\" >3</td>\n",
              "    </tr>\n",
              "    <tr>\n",
              "      <th id=\"T_d1adb_level0_row1\" class=\"row_heading level0 row1\" >Doc1</th>\n",
              "      <td id=\"T_d1adb_row1_col0\" class=\"data row1 col0\" >0.075691</td>\n",
              "      <td id=\"T_d1adb_row1_col1\" class=\"data row1 col1\" >0.773432</td>\n",
              "      <td id=\"T_d1adb_row1_col2\" class=\"data row1 col2\" >0.075515</td>\n",
              "      <td id=\"T_d1adb_row1_col3\" class=\"data row1 col3\" >0.075362</td>\n",
              "      <td id=\"T_d1adb_row1_col4\" class=\"data row1 col4\" >1</td>\n",
              "    </tr>\n",
              "    <tr>\n",
              "      <th id=\"T_d1adb_level0_row2\" class=\"row_heading level0 row2\" >Doc2</th>\n",
              "      <td id=\"T_d1adb_row2_col0\" class=\"data row2 col0\" >0.464578</td>\n",
              "      <td id=\"T_d1adb_row2_col1\" class=\"data row2 col1\" >0.211080</td>\n",
              "      <td id=\"T_d1adb_row2_col2\" class=\"data row2 col2\" >0.251240</td>\n",
              "      <td id=\"T_d1adb_row2_col3\" class=\"data row2 col3\" >0.073102</td>\n",
              "      <td id=\"T_d1adb_row2_col4\" class=\"data row2 col4\" >0</td>\n",
              "    </tr>\n",
              "    <tr>\n",
              "      <th id=\"T_d1adb_level0_row3\" class=\"row_heading level0 row3\" >Doc3</th>\n",
              "      <td id=\"T_d1adb_row3_col0\" class=\"data row3 col0\" >0.147423</td>\n",
              "      <td id=\"T_d1adb_row3_col1\" class=\"data row3 col1\" >0.616237</td>\n",
              "      <td id=\"T_d1adb_row3_col2\" class=\"data row3 col2\" >0.113744</td>\n",
              "      <td id=\"T_d1adb_row3_col3\" class=\"data row3 col3\" >0.122596</td>\n",
              "      <td id=\"T_d1adb_row3_col4\" class=\"data row3 col4\" >1</td>\n",
              "    </tr>\n",
              "    <tr>\n",
              "      <th id=\"T_d1adb_level0_row4\" class=\"row_heading level0 row4\" >Doc4</th>\n",
              "      <td id=\"T_d1adb_row4_col0\" class=\"data row4 col0\" >0.763378</td>\n",
              "      <td id=\"T_d1adb_row4_col1\" class=\"data row4 col1\" >0.079146</td>\n",
              "      <td id=\"T_d1adb_row4_col2\" class=\"data row4 col2\" >0.079471</td>\n",
              "      <td id=\"T_d1adb_row4_col3\" class=\"data row4 col3\" >0.078004</td>\n",
              "      <td id=\"T_d1adb_row4_col4\" class=\"data row4 col4\" >0</td>\n",
              "    </tr>\n",
              "    <tr>\n",
              "      <th id=\"T_d1adb_level0_row5\" class=\"row_heading level0 row5\" >Doc5</th>\n",
              "      <td id=\"T_d1adb_row5_col0\" class=\"data row5 col0\" >0.282710</td>\n",
              "      <td id=\"T_d1adb_row5_col1\" class=\"data row5 col1\" >0.520207</td>\n",
              "      <td id=\"T_d1adb_row5_col2\" class=\"data row5 col2\" >0.148079</td>\n",
              "      <td id=\"T_d1adb_row5_col3\" class=\"data row5 col3\" >0.049004</td>\n",
              "      <td id=\"T_d1adb_row5_col4\" class=\"data row5 col4\" >1</td>\n",
              "    </tr>\n",
              "    <tr>\n",
              "      <th id=\"T_d1adb_level0_row6\" class=\"row_heading level0 row6\" >Doc6</th>\n",
              "      <td id=\"T_d1adb_row6_col0\" class=\"data row6 col0\" >0.076646</td>\n",
              "      <td id=\"T_d1adb_row6_col1\" class=\"data row6 col1\" >0.770651</td>\n",
              "      <td id=\"T_d1adb_row6_col2\" class=\"data row6 col2\" >0.076381</td>\n",
              "      <td id=\"T_d1adb_row6_col3\" class=\"data row6 col3\" >0.076322</td>\n",
              "      <td id=\"T_d1adb_row6_col4\" class=\"data row6 col4\" >1</td>\n",
              "    </tr>\n",
              "    <tr>\n",
              "      <th id=\"T_d1adb_level0_row7\" class=\"row_heading level0 row7\" >Doc7</th>\n",
              "      <td id=\"T_d1adb_row7_col0\" class=\"data row7 col0\" >0.047970</td>\n",
              "      <td id=\"T_d1adb_row7_col1\" class=\"data row7 col1\" >0.128512</td>\n",
              "      <td id=\"T_d1adb_row7_col2\" class=\"data row7 col2\" >0.652435</td>\n",
              "      <td id=\"T_d1adb_row7_col3\" class=\"data row7 col3\" >0.171083</td>\n",
              "      <td id=\"T_d1adb_row7_col4\" class=\"data row7 col4\" >2</td>\n",
              "    </tr>\n",
              "    <tr>\n",
              "      <th id=\"T_d1adb_level0_row8\" class=\"row_heading level0 row8\" >Doc8</th>\n",
              "      <td id=\"T_d1adb_row8_col0\" class=\"data row8 col0\" >0.083892</td>\n",
              "      <td id=\"T_d1adb_row8_col1\" class=\"data row8 col1\" >0.263682</td>\n",
              "      <td id=\"T_d1adb_row8_col2\" class=\"data row8 col2\" >0.565527</td>\n",
              "      <td id=\"T_d1adb_row8_col3\" class=\"data row8 col3\" >0.086899</td>\n",
              "      <td id=\"T_d1adb_row8_col4\" class=\"data row8 col4\" >2</td>\n",
              "    </tr>\n",
              "    <tr>\n",
              "      <th id=\"T_d1adb_level0_row9\" class=\"row_heading level0 row9\" >Doc9</th>\n",
              "      <td id=\"T_d1adb_row9_col0\" class=\"data row9 col0\" >0.091969</td>\n",
              "      <td id=\"T_d1adb_row9_col1\" class=\"data row9 col1\" >0.465758</td>\n",
              "      <td id=\"T_d1adb_row9_col2\" class=\"data row9 col2\" >0.352863</td>\n",
              "      <td id=\"T_d1adb_row9_col3\" class=\"data row9 col3\" >0.089410</td>\n",
              "      <td id=\"T_d1adb_row9_col4\" class=\"data row9 col4\" >1</td>\n",
              "    </tr>\n",
              "    <tr>\n",
              "      <th id=\"T_d1adb_level0_row10\" class=\"row_heading level0 row10\" >Doc10</th>\n",
              "      <td id=\"T_d1adb_row10_col0\" class=\"data row10 col0\" >0.243894</td>\n",
              "      <td id=\"T_d1adb_row10_col1\" class=\"data row10 col1\" >0.388103</td>\n",
              "      <td id=\"T_d1adb_row10_col2\" class=\"data row10 col2\" >0.306595</td>\n",
              "      <td id=\"T_d1adb_row10_col3\" class=\"data row10 col3\" >0.061408</td>\n",
              "      <td id=\"T_d1adb_row10_col4\" class=\"data row10 col4\" >1</td>\n",
              "    </tr>\n",
              "    <tr>\n",
              "      <th id=\"T_d1adb_level0_row11\" class=\"row_heading level0 row11\" >Doc11</th>\n",
              "      <td id=\"T_d1adb_row11_col0\" class=\"data row11 col0\" >0.064291</td>\n",
              "      <td id=\"T_d1adb_row11_col1\" class=\"data row11 col1\" >0.396850</td>\n",
              "      <td id=\"T_d1adb_row11_col2\" class=\"data row11 col2\" >0.171961</td>\n",
              "      <td id=\"T_d1adb_row11_col3\" class=\"data row11 col3\" >0.366898</td>\n",
              "      <td id=\"T_d1adb_row11_col4\" class=\"data row11 col4\" >1</td>\n",
              "    </tr>\n",
              "    <tr>\n",
              "      <th id=\"T_d1adb_level0_row12\" class=\"row_heading level0 row12\" >Doc12</th>\n",
              "      <td id=\"T_d1adb_row12_col0\" class=\"data row12 col0\" >0.120148</td>\n",
              "      <td id=\"T_d1adb_row12_col1\" class=\"data row12 col1\" >0.099828</td>\n",
              "      <td id=\"T_d1adb_row12_col2\" class=\"data row12 col2\" >0.680147</td>\n",
              "      <td id=\"T_d1adb_row12_col3\" class=\"data row12 col3\" >0.099876</td>\n",
              "      <td id=\"T_d1adb_row12_col4\" class=\"data row12 col4\" >2</td>\n",
              "    </tr>\n",
              "    <tr>\n",
              "      <th id=\"T_d1adb_level0_row13\" class=\"row_heading level0 row13\" >Doc13</th>\n",
              "      <td id=\"T_d1adb_row13_col0\" class=\"data row13 col0\" >0.071946</td>\n",
              "      <td id=\"T_d1adb_row13_col1\" class=\"data row13 col1\" >0.072193</td>\n",
              "      <td id=\"T_d1adb_row13_col2\" class=\"data row13 col2\" >0.784809</td>\n",
              "      <td id=\"T_d1adb_row13_col3\" class=\"data row13 col3\" >0.071052</td>\n",
              "      <td id=\"T_d1adb_row13_col4\" class=\"data row13 col4\" >2</td>\n",
              "    </tr>\n",
              "    <tr>\n",
              "      <th id=\"T_d1adb_level0_row14\" class=\"row_heading level0 row14\" >Doc14</th>\n",
              "      <td id=\"T_d1adb_row14_col0\" class=\"data row14 col0\" >0.089996</td>\n",
              "      <td id=\"T_d1adb_row14_col1\" class=\"data row14 col1\" >0.246344</td>\n",
              "      <td id=\"T_d1adb_row14_col2\" class=\"data row14 col2\" >0.090178</td>\n",
              "      <td id=\"T_d1adb_row14_col3\" class=\"data row14 col3\" >0.573481</td>\n",
              "      <td id=\"T_d1adb_row14_col4\" class=\"data row14 col4\" >3</td>\n",
              "    </tr>\n",
              "  </tbody>\n",
              "</table>\n"
            ]
          },
          "metadata": {}
        }
      ]
    },
    {
      "cell_type": "markdown",
      "source": [
        " # **Best LDA model**"
      ],
      "metadata": {
        "id": "mLIbsGXvdk1U"
      }
    },
    {
      "cell_type": "markdown",
      "source": [
        "Using GridSearch to determine the best LDA model"
      ],
      "metadata": {
        "id": "FDLsGvzSnrqY"
      }
    },
    {
      "cell_type": "code",
      "source": [
        "# Define Search Param\n",
        "search_params = {'n_components': [3, 4, 5]}\n",
        "# Init the Model\n",
        "lda = LatentDirichletAllocation(max_iter=5,random_state=0)\n",
        "# Init Grid Search Class\n",
        "model = GridSearchCV(lda, param_grid=search_params)\n",
        "# Do the Grid Search\n",
        "model.fit(df_tfidfvect)"
      ],
      "metadata": {
        "id": "LNvxQcvJkKnj"
      },
      "execution_count": null,
      "outputs": []
    },
    {
      "cell_type": "code",
      "source": [
        "# Best Model\n",
        "best_lda_model = model.best_estimator_\n",
        "# Model Parameters\n",
        "print(\"Best Model's Params: \", model.best_params_)\n",
        "# Log Likelihood Score\n",
        "print(\"Best Log Likelihood Score: \", model.best_score_)\n",
        "# Perplexity\n",
        "print(\"Model Perplexity: \", best_lda_model.perplexity(df_tfidfvect))"
      ],
      "metadata": {
        "id": "cpUR3aY_k3T8"
      },
      "execution_count": null,
      "outputs": []
    },
    {
      "cell_type": "markdown",
      "source": [
        "Dominant topic"
      ],
      "metadata": {
        "id": "n-UDKhjE-Or7"
      }
    },
    {
      "cell_type": "code",
      "source": [
        "# column names\n",
        "topicnames = [\"Topic\" + str(i) for i in range(best_lda_model.n_components)]\n",
        "# index names\n",
        "docnames = [\"Doc\" + str(i) for i in range(len(text_after_preprocessed))]\n",
        "# Make the pandas dataframe\n",
        "df_document_topic = pd.DataFrame(np.round(lda_output, 2), columns=topicnames, index=docnames)\n",
        "# Get dominant topic for each document\n",
        "dominant_topic = np.argmax(df_document_topic.values, axis=1)\n",
        "df_document_topic['dominant_topic'] = dominant_topic\n",
        "# Styling\n",
        "def color_green(val):\n",
        "  color = 'green' if val > .8 else 'black'\n",
        "  return 'color: {col}'.format(col=color)\n",
        "def make_bold(val):\n",
        "  weight = 700 if val > .25 else 400\n",
        "  return \"font-weight: {weight}\".format(weight=weight)\n",
        "# Apply Style\n",
        "df_document_topics = df_document_topic.head(15).style.applymap(color_green).applymap(make_bold)\n",
        "df_document_topics"
      ],
      "metadata": {
        "id": "uBvps3dQktyY",
        "outputId": "d44d90e2-50ea-4527-b0bf-35dd1e7110f7",
        "colab": {
          "base_uri": "https://localhost:8080/",
          "height": 106
        }
      },
      "execution_count": null,
      "outputs": [
        {
          "output_type": "error",
          "ename": "SyntaxError",
          "evalue": "invalid character '“' (U+201C) (<ipython-input-15-038e417f1f42>, line 4)",
          "traceback": [
            "\u001b[0;36m  File \u001b[0;32m\"<ipython-input-15-038e417f1f42>\"\u001b[0;36m, line \u001b[0;32m4\u001b[0m\n\u001b[0;31m    topicnames = [“Topic” + str(i) for i in range(best_lda_model.n_components)]\u001b[0m\n\u001b[0m                  ^\u001b[0m\n\u001b[0;31mSyntaxError\u001b[0m\u001b[0;31m:\u001b[0m invalid character '“' (U+201C)\n"
          ]
        }
      ]
    },
    {
      "cell_type": "code",
      "source": [
        "# Topic-Keyword Matrix\n",
        "df_topic_keywords = pd.DataFrame(best_lda_model.components_)\n",
        "# Assign Column and Index\n",
        "df_topic_keywords.columns = tfidf_tokens\n",
        "df_topic_keywords.index = topicnames\n",
        "# View\n",
        "df_topic_keywords.head()"
      ],
      "metadata": {
        "id": "b2WBVtZclNzV"
      },
      "execution_count": null,
      "outputs": []
    },
    {
      "cell_type": "code",
      "source": [
        "# Show top n keywords for each topic\n",
        "def show_topics(vectorizer, lda_model, n_words):\n",
        "    keywords = np.array(vectorizer.get_feature_names_out())\n",
        "    topic_keywords = []\n",
        "    for topic_weights in lda_model.components_:\n",
        "        top_keyword_locs = (-topic_weights).argsort()[:n_words]\n",
        "        topic_keywords.append(keywords.take(top_keyword_locs))\n",
        "    return topic_keywords\n",
        "topic_keywords = show_topics(tfidfvectorizer, best_lda_model, n_words=50)\n",
        "# Topic - Keywords Dataframe\n",
        "df_topic_keywords = pd.DataFrame(topic_keywords).transpose()\n",
        "df_topic_keywords.columns = ['Topic '+str(i) for i in range(df_topic_keywords.shape[1])]\n",
        "df_topic_keywords.index = ['Word '+str(i) for i in range(df_topic_keywords.shape[0])]\n",
        "df_topic_keywords"
      ],
      "metadata": {
        "id": "_arNTQd6lRxg"
      },
      "execution_count": null,
      "outputs": []
    }
  ]
}