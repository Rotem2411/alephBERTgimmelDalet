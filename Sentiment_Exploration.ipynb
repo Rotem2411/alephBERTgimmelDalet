{
  "nbformat": 4,
  "nbformat_minor": 0,
  "metadata": {
    "colab": {
      "provenance": [],
      "authorship_tag": "ABX9TyOuBXiV7ihouC/jGxNn41XP",
      "include_colab_link": true
    },
    "kernelspec": {
      "name": "python3",
      "display_name": "Python 3"
    },
    "language_info": {
      "name": "python"
    }
  },
  "cells": [
    {
      "cell_type": "markdown",
      "metadata": {
        "id": "view-in-github",
        "colab_type": "text"
      },
      "source": [
        "<a href=\"https://colab.research.google.com/github/Rotem2411/alephBERTgimmelDalet/blob/main/Sentiment_Exploration.ipynb\" target=\"_parent\"><img src=\"https://colab.research.google.com/assets/colab-badge.svg\" alt=\"Open In Colab\"/></a>"
      ]
    },
    {
      "cell_type": "code",
      "execution_count": 1,
      "metadata": {
        "id": "YrscUhc4RI_T"
      },
      "outputs": [],
      "source": [
        "import csv\n",
        "import pandas as pd\n",
        "import matplotlib.pyplot as plt\n",
        "import nltk\n",
        "from collections import Counter\n",
        "from string import punctuation\n",
        "from sklearn.ensemble import RandomForestClassifier\n",
        "from sklearn.feature_extraction.text import TfidfVectorizer\n",
        "from sklearn.metrics import accuracy_score, precision_score, recall_score\n",
        "from sklearn.model_selection import train_test_split\n",
        "from sklearn.model_selection import cross_val_score\n",
        "from sklearn.model_selection import GridSearchCV"
      ]
    },
    {
      "cell_type": "code",
      "source": [
        "def read_csv_file(file_path):\n",
        "    data = []\n",
        "    with open(file_path, 'r', newline='', encoding='utf-8') as csvfile:\n",
        "        csv_reader = csv.reader(csvfile)\n",
        "        for row in csv_reader:\n",
        "            data.append(row)\n",
        "    return data"
      ],
      "metadata": {
        "id": "K8ZPx8juRlVP"
      },
      "execution_count": 2,
      "outputs": []
    },
    {
      "cell_type": "code",
      "source": [
        "    file_path = 'sentiments.csv'\n",
        "    df = pd.read_csv(file_path)\n",
        "    print(df.head(10))\n",
        "\n",
        "    # Total number of samples\n",
        "    num_samples = len(df)\n",
        "    print(\"Total number of samples:\", num_samples)\n",
        "\n",
        "    # Sentiment distribution\n",
        "    Sentiment_distribution = {}\n",
        "    for index, row in df.iterrows():\n",
        "        Sentiment_label = row['tag']\n",
        "        if Sentiment_label not in Sentiment_distribution:\n",
        "            Sentiment_distribution[Sentiment_label] = 1\n",
        "        else:\n",
        "            Sentiment_distribution[Sentiment_label] += 1\n",
        "    print(\"Sentiment Distribution:\")\n",
        "    for Sentiment_label, count in Sentiment_distribution.items():\n",
        "        print(f\"{Sentiment_label}: {count} tags\")"
      ],
      "metadata": {
        "colab": {
          "base_uri": "https://localhost:8080/"
        },
        "id": "gIWzcPBPRtoP",
        "outputId": "2b8898f1-a67b-4885-f93c-c7ffb077e540"
      },
      "execution_count": 3,
      "outputs": [
        {
          "output_type": "stream",
          "name": "stdout",
          "text": [
            "   id                                               text tag category class  \\\n",
            "0   1                    האריות של הצל חזק פה בתגובות...   ש  ECONOMY    b1   \n",
            "1   2  זמרת תעשייה רק מפרסומות מפורסמת\\n  אבל אין קהל...   ש  ECONOMY    b1   \n",
            "2   4  את לא יורקת לבאר שממנה שתית. יפה יפה, אבל חסרת...   ש  ECONOMY    b1   \n",
            "3   5  שמעון\\n  משתתף בפרסומת למילקי במקום לעורר מודע...   ש  ECONOMY    b1   \n",
            "4   6  הצחקתם אותי\\n  מה כל כך אמייזינג בחברה עם אפס ...   ש  ECONOMY    b1   \n",
            "5   7  איסו חברת הייטק מצליחה צריכה פרסומות שיבואו לע...   ש  ECONOMY    b1   \n",
            "6   8           לא מכיר אותה ולא שמעתי אפילו שיר אחד שלה   ש  ECONOMY    b1   \n",
            "7   9  וואללה לא יודע מה מתלהבים מנגה ארז. זה בכלל לא...   ש  ECONOMY    b1   \n",
            "8  10  אהובה שגיא\\n  נגה גדולה.זמרת מעולה.פרסומת מדלי...   ח  ECONOMY    b1   \n",
            "9  11  הפרסומת של אמדוקס נראית מאוד קודרת ואפורה, כמו...   ש  ECONOMY    b1   \n",
            "\n",
            "   total_tags  selected_tag  polarity  \n",
            "0           2             2       1.0  \n",
            "1           2             2       1.0  \n",
            "2           2             2       1.0  \n",
            "3           2             2       1.0  \n",
            "4           2             2       1.0  \n",
            "5           2             2       1.0  \n",
            "6           2             2       1.0  \n",
            "7           2             2       1.0  \n",
            "8           2             2       1.0  \n",
            "9           2             2       1.0  \n",
            "Total number of samples: 75151\n",
            "Sentiment Distribution:\n",
            "ש: 60841 tags\n",
            "ח: 6982 tags\n",
            "נ: 7328 tags\n"
          ]
        }
      ]
    },
    {
      "cell_type": "code",
      "source": [
        "df['tag'].value_counts().plot.pie(figsize=(6,6),title=\"Distribution of tags per sentiment\", autopct='%1.1f%%')\n",
        "labels=[\"Negative\", \"Neutral\", \"Positive\"]\n",
        "plt.legend(labels,loc=3)\n",
        "plt.gca().set_aspect('equal')"
      ],
      "metadata": {
        "colab": {
          "base_uri": "https://localhost:8080/",
          "height": 521
        },
        "id": "FTB89FrOl2YA",
        "outputId": "72f1f179-e8e8-4ca6-a0b2-703504bd7ac5"
      },
      "execution_count": 4,
      "outputs": [
        {
          "output_type": "display_data",
          "data": {
            "text/plain": [
              "<Figure size 600x600 with 1 Axes>"
            ],
            "image/png": "[encoded data removed]"
          },
          "metadata": {}
        }
      ]
    },
    {
      "cell_type": "code",
      "source": [
        "    nltk.download('punkt')\n",
        "\n",
        "    # Tokenize each text into words, excluding punctuation, and flatten the list of tokenized words\n",
        "    all_words = [word for text in df['text'] for word in nltk.word_tokenize(text) if word not in punctuation]\n",
        "\n",
        "    # Tokenize each text into sentences\n",
        "    all_sentences = [sentence for text in df['text'] for sentence in nltk.sent_tokenize(text)]\n",
        "\n",
        "    # Count the occurrences of each word\n",
        "    word_counts = Counter(all_words)\n",
        "\n",
        "    print(\"There are\", len(set(all_words)) , \" different words in the text.\")\n",
        "    print(\"The top 10 most common words are: \", word_counts.most_common(10))"
      ],
      "metadata": {
        "colab": {
          "base_uri": "https://localhost:8080/"
        },
        "id": "kXvQQVuk-hP3",
        "outputId": "cee9ea42-89fc-463a-c199-e400e3412454"
      },
      "execution_count": 5,
      "outputs": [
        {
          "output_type": "stream",
          "name": "stderr",
          "text": [
            "[nltk_data] Downloading package punkt to /root/nltk_data...\n",
            "[nltk_data]   Package punkt is already up-to-date!\n"
          ]
        },
        {
          "output_type": "stream",
          "name": "stdout",
          "text": [
            "There are 106891  different words in the text.\n",
            "The top 10 most common words are:  [('לא', 29679), ('את', 23642), ('זה', 14142), ('של', 14048), ('על', 13068), ('כל', 8932), ('מה', 8132), (\"''\", 7981), ('עם', 7329), ('גם', 6241)]\n"
          ]
        }
      ]
    },
    {
      "cell_type": "markdown",
      "source": [
        "We can see there are 75,151 tags and there's not a single null value.\n",
        "\n",
        "All the sentences were annotated by crowd members(2-5 annotators) to sentiment: positive, negative or neutral.\n",
        "\n",
        "Since there are too many examples for our computation capacity, we'll split the dataset and reduce it.\n",
        "\n",
        "First, we'll reduce the data set to 10% and then we'll keep 50% for the training set and 25% both for the validation and the test set."
      ],
      "metadata": {
        "id": "AFm0oOvxn0jD"
      }
    },
    {
      "cell_type": "code",
      "source": [
        "features = df['text']\n",
        "labels = df['tag']\n",
        "\n",
        "X_train, X_test, y_train, y_test = train_test_split(features,labels,test_size = 0.90, random_state=42)\n",
        "X_train, X_test, y_train, y_test = train_test_split(X_train,y_train,test_size = 0.5, random_state=42)\n",
        "X_val, X_test, y_val, y_test = train_test_split(X_test,y_test,test_size = 0.5, random_state=42)\n",
        "\n",
        "print(\"Data distribution:\\n- Train: {} \\n- Validation: {} \\n- Test: {}\".format(len(y_train),len(y_val),len(y_test)))"
      ],
      "metadata": {
        "colab": {
          "base_uri": "https://localhost:8080/"
        },
        "id": "xFGI51fVkaFf",
        "outputId": "c6c53294-a6e6-4914-baae-a7c9b4c020d9"
      },
      "execution_count": 6,
      "outputs": [
        {
          "output_type": "stream",
          "name": "stdout",
          "text": [
            "Data distribution:\n",
            "- Train: 3757 \n",
            "- Validation: 1879 \n",
            "- Test: 1879\n"
          ]
        }
      ]
    },
    {
      "cell_type": "code",
      "source": [
        "def vectorize(data, tfidf_vect_fit):\n",
        "    X_tfidf = tfidf_vect_fit.transform(data)\n",
        "    words = tfidf_vect_fit.get_feature_names_out()\n",
        "    X_tfidf_df = pd.DataFrame(X_tfidf.toarray())\n",
        "    X_tfidf_df.columns = words\n",
        "    return(X_tfidf_df)"
      ],
      "metadata": {
        "id": "kk-Apm3K--Gv"
      },
      "execution_count": 7,
      "outputs": []
    },
    {
      "cell_type": "code",
      "source": [
        "def clean(text):\n",
        "    wn = nltk.WordNetLemmatizer()\n",
        "    stopword = nltk.corpus.stopwords.words('hebrew')\n",
        "    tokens = nltk.word_tokenize(text)\n",
        "    lower = [word.lower() for word in tokens]\n",
        "    no_stopwords = [word for word in lower if word not in stopword]\n",
        "    no_alpha = [word for word in no_stopwords if word.isalpha()]\n",
        "    lemm_text = [wn.lemmatize(word) for word in no_alpha]\n",
        "    clean_text = lemm_text\n",
        "    return clean_text"
      ],
      "metadata": {
        "id": "mC5JkMWFCX5C"
      },
      "execution_count": 8,
      "outputs": []
    },
    {
      "cell_type": "code",
      "source": [
        "nltk.download('stopwords')\n",
        "nltk.download('wordnet')\n",
        "tfidf_vect = TfidfVectorizer(analyzer=clean)\n",
        "tfidf_vect_fit=tfidf_vect.fit(X_train)\n",
        "X_train = vectorize(X_train, tfidf_vect_fit)"
      ],
      "metadata": {
        "colab": {
          "base_uri": "https://localhost:8080/"
        },
        "id": "weLzkKSSGXsn",
        "outputId": "933cf2a2-51e3-476a-e36f-28411c981d4a"
      },
      "execution_count": 9,
      "outputs": [
        {
          "output_type": "stream",
          "name": "stderr",
          "text": [
            "[nltk_data] Downloading package stopwords to /root/nltk_data...\n",
            "[nltk_data]   Package stopwords is already up-to-date!\n",
            "[nltk_data] Downloading package wordnet to /root/nltk_data...\n",
            "[nltk_data]   Package wordnet is already up-to-date!\n"
          ]
        }
      ]
    },
    {
      "cell_type": "markdown",
      "source": [
        "We explore first results of a Random Forest Classifier without any hyperparameter tuning using 10-cross-fold validation"
      ],
      "metadata": {
        "id": "ODHrHvMtMBIp"
      }
    },
    {
      "cell_type": "code",
      "source": [
        "rf = RandomForestClassifier()\n",
        "scores = cross_val_score(rf,X_train,y_train.values.ravel(),cv=10)"
      ],
      "metadata": {
        "id": "IzI3wsNUH06O"
      },
      "execution_count": 10,
      "outputs": []
    },
    {
      "cell_type": "code",
      "source": [
        "print(scores)\n",
        "scores.mean()"
      ],
      "metadata": {
        "id": "uglxf2qGMRzR",
        "colab": {
          "base_uri": "https://localhost:8080/"
        },
        "outputId": "5b122c67-13b1-4e0d-a50f-1a406ae384f4"
      },
      "execution_count": 11,
      "outputs": [
        {
          "output_type": "stream",
          "name": "stdout",
          "text": [
            "[0.83776596 0.84308511 0.83510638 0.82712766 0.82180851 0.82978723\n",
            " 0.84308511 0.84533333 0.85333333 0.84266667]\n"
          ]
        },
        {
          "output_type": "execute_result",
          "data": {
            "text/plain": [
              "0.8379099290780141"
            ]
          },
          "metadata": {},
          "execution_count": 11
        }
      ]
    },
    {
      "cell_type": "markdown",
      "source": [
        "Now we'll do some hyperparameter tuning using GridSearchCV."
      ],
      "metadata": {
        "id": "0azFny0A9H9d"
      }
    },
    {
      "cell_type": "code",
      "source": [
        "def print_results(results):\n",
        "    print('BEST PARAMS: {}\\n'.format(results.best_params_))\n",
        "\n",
        "    means = results.cv_results_['mean_test_score']\n",
        "    stds = results.cv_results_['std_test_score']\n",
        "    for mean, std, params in zip(means, stds, results.cv_results_['params']):\n",
        "        print('{} (+/-{}) for {}'.format(round(mean, 3), round(std * 2, 3), params))"
      ],
      "metadata": {
        "id": "notjIMvC7-fX"
      },
      "execution_count": 12,
      "outputs": []
    },
    {
      "cell_type": "code",
      "source": [
        "rf = RandomForestClassifier()\n",
        "parameters = {\n",
        "    'n_estimators': [5,50,100],\n",
        "    'max_depth': [2,10,20,None]\n",
        "}\n",
        "\n",
        "cv = GridSearchCV(rf,parameters)\n",
        "cv.fit(X_train,y_train.values.ravel())\n",
        "print_results(cv)"
      ],
      "metadata": {
        "id": "ukMzHgLG8I2m",
        "colab": {
          "base_uri": "https://localhost:8080/"
        },
        "outputId": "6b2d8130-47bf-443a-8fe0-c69f7fbf0def"
      },
      "execution_count": 13,
      "outputs": [
        {
          "output_type": "stream",
          "name": "stdout",
          "text": [
            "BEST PARAMS: {'max_depth': None, 'n_estimators': 50}\n",
            "\n",
            "0.82 (+/-0.001) for {'max_depth': 2, 'n_estimators': 5}\n",
            "0.82 (+/-0.001) for {'max_depth': 2, 'n_estimators': 50}\n",
            "0.82 (+/-0.001) for {'max_depth': 2, 'n_estimators': 100}\n",
            "0.82 (+/-0.001) for {'max_depth': 10, 'n_estimators': 5}\n",
            "0.82 (+/-0.001) for {'max_depth': 10, 'n_estimators': 50}\n",
            "0.82 (+/-0.001) for {'max_depth': 10, 'n_estimators': 100}\n",
            "0.819 (+/-0.004) for {'max_depth': 20, 'n_estimators': 5}\n",
            "0.82 (+/-0.001) for {'max_depth': 20, 'n_estimators': 50}\n",
            "0.82 (+/-0.001) for {'max_depth': 20, 'n_estimators': 100}\n",
            "0.821 (+/-0.018) for {'max_depth': None, 'n_estimators': 5}\n",
            "0.838 (+/-0.011) for {'max_depth': None, 'n_estimators': 50}\n",
            "0.836 (+/-0.013) for {'max_depth': None, 'n_estimators': 100}\n"
          ]
        }
      ]
    },
    {
      "cell_type": "markdown",
      "source": [
        "For the evaluation of the validation set, first we need to transform it using the same features as the training set. Then, we can evaluate our best models from CV on it."
      ],
      "metadata": {
        "id": "WeN0LvUr9Mer"
      }
    },
    {
      "cell_type": "code",
      "source": [
        "X_val=vectorize(X_val,tfidf_vect_fit)"
      ],
      "metadata": {
        "id": "DILM1FRD8NlF"
      },
      "execution_count": 14,
      "outputs": []
    },
    {
      "cell_type": "code",
      "source": [
        "rf1 = RandomForestClassifier(n_estimators=100,max_depth=20)\n",
        "rf1.fit(X_train, y_train.values.ravel())\n",
        "rf2 = RandomForestClassifier(n_estimators=100,max_depth=None)\n",
        "rf2.fit(X_train, y_train.values.ravel())\n",
        "rf3 = RandomForestClassifier(n_estimators=5,max_depth=None)\n",
        "rf3.fit(X_train, y_train.values.ravel())"
      ],
      "metadata": {
        "id": "U3DheCvg8k1n",
        "colab": {
          "base_uri": "https://localhost:8080/",
          "height": 74
        },
        "outputId": "81599f7c-b6c5-4cf7-860c-650109876e9f"
      },
      "execution_count": 15,
      "outputs": [
        {
          "output_type": "execute_result",
          "data": {
            "text/plain": [
              "RandomForestClassifier(n_estimators=5)"
            ],
            "text/html": [
              "<style>#sk-container-id-1 {color: black;background-color: white;}#sk-container-id-1 pre{padding: 0;}#sk-container-id-1 div.sk-toggleable {background-color: white;}#sk-container-id-1 label.sk-toggleable__label {cursor: pointer;display: block;width: 100%;margin-bottom: 0;padding: 0.3em;box-sizing: border-box;text-align: center;}#sk-container-id-1 label.sk-toggleable__label-arrow:before {content: \"▸\";float: left;margin-right: 0.25em;color: #696969;}#sk-container-id-1 label.sk-toggleable__label-arrow:hover:before {color: black;}#sk-container-id-1 div.sk-estimator:hover label.sk-toggleable__label-arrow:before {color: black;}#sk-container-id-1 div.sk-toggleable__content {max-height: 0;max-width: 0;overflow: hidden;text-align: left;background-color: #f0f8ff;}#sk-container-id-1 div.sk-toggleable__content pre {margin: 0.2em;color: black;border-radius: 0.25em;background-color: #f0f8ff;}#sk-container-id-1 input.sk-toggleable__control:checked~div.sk-toggleable__content {max-height: 200px;max-width: 100%;overflow: auto;}#sk-container-id-1 input.sk-toggleable__control:checked~label.sk-toggleable__label-arrow:before {content: \"▾\";}#sk-container-id-1 div.sk-estimator input.sk-toggleable__control:checked~label.sk-toggleable__label {background-color: #d4ebff;}#sk-container-id-1 div.sk-label input.sk-toggleable__control:checked~label.sk-toggleable__label {background-color: #d4ebff;}#sk-container-id-1 input.sk-hidden--visually {border: 0;clip: rect(1px 1px 1px 1px);clip: rect(1px, 1px, 1px, 1px);height: 1px;margin: -1px;overflow: hidden;padding: 0;position: absolute;width: 1px;}#sk-container-id-1 div.sk-estimator {font-family: monospace;background-color: #f0f8ff;border: 1px dotted black;border-radius: 0.25em;box-sizing: border-box;margin-bottom: 0.5em;}#sk-container-id-1 div.sk-estimator:hover {background-color: #d4ebff;}#sk-container-id-1 div.sk-parallel-item::after {content: \"\";width: 100%;border-bottom: 1px solid gray;flex-grow: 1;}#sk-container-id-1 div.sk-label:hover label.sk-toggleable__label {background-color: #d4ebff;}#sk-container-id-1 div.sk-serial::before {content: \"\";position: absolute;border-left: 1px solid gray;box-sizing: border-box;top: 0;bottom: 0;left: 50%;z-index: 0;}#sk-container-id-1 div.sk-serial {display: flex;flex-direction: column;align-items: center;background-color: white;padding-right: 0.2em;padding-left: 0.2em;position: relative;}#sk-container-id-1 div.sk-item {position: relative;z-index: 1;}#sk-container-id-1 div.sk-parallel {display: flex;align-items: stretch;justify-content: center;background-color: white;position: relative;}#sk-container-id-1 div.sk-item::before, #sk-container-id-1 div.sk-parallel-item::before {content: \"\";position: absolute;border-left: 1px solid gray;box-sizing: border-box;top: 0;bottom: 0;left: 50%;z-index: -1;}#sk-container-id-1 div.sk-parallel-item {display: flex;flex-direction: column;z-index: 1;position: relative;background-color: white;}#sk-container-id-1 div.sk-parallel-item:first-child::after {align-self: flex-end;width: 50%;}#sk-container-id-1 div.sk-parallel-item:last-child::after {align-self: flex-start;width: 50%;}#sk-container-id-1 div.sk-parallel-item:only-child::after {width: 0;}#sk-container-id-1 div.sk-dashed-wrapped {border: 1px dashed gray;margin: 0 0.4em 0.5em 0.4em;box-sizing: border-box;padding-bottom: 0.4em;background-color: white;}#sk-container-id-1 div.sk-label label {font-family: monospace;font-weight: bold;display: inline-block;line-height: 1.2em;}#sk-container-id-1 div.sk-label-container {text-align: center;}#sk-container-id-1 div.sk-container {/* jupyter's `normalize.less` sets `[hidden] { display: none; }` but bootstrap.min.css set `[hidden] { display: none !important; }` so we also need the `!important` here to be able to override the default hidden behavior on the sphinx rendered scikit-learn.org. See: https://github.com/scikit-learn/scikit-learn/issues/21755 */display: inline-block !important;position: relative;}#sk-container-id-1 div.sk-text-repr-fallback {display: none;}</style><div id=\"sk-container-id-1\" class=\"sk-top-container\"><div class=\"sk-text-repr-fallback\"><pre>RandomForestClassifier(n_estimators=5)</pre><b>In a Jupyter environment, please rerun this cell to show the HTML representation or trust the notebook. <br />On GitHub, the HTML representation is unable to render, please try loading this page with nbviewer.org.</b></div><div class=\"sk-container\" hidden><div class=\"sk-item\"><div class=\"sk-estimator sk-toggleable\"><input class=\"sk-toggleable__control sk-hidden--visually\" id=\"sk-estimator-id-1\" type=\"checkbox\" checked><label for=\"sk-estimator-id-1\" class=\"sk-toggleable__label sk-toggleable__label-arrow\">RandomForestClassifier</label><div class=\"sk-toggleable__content\"><pre>RandomForestClassifier(n_estimators=5)</pre></div></div></div></div></div>"
            ]
          },
          "metadata": {},
          "execution_count": 15
        }
      ]
    },
    {
      "cell_type": "code",
      "source": [
        "for mdl in [rf1,rf2,rf3]:\n",
        "    y_pred = mdl.predict(X_val)\n",
        "    accuracy = round(accuracy_score(y_val, y_pred), 3)\n",
        "    precision = round(precision_score(y_val, y_pred, average='micro'), 3)\n",
        "    recall = round(recall_score(y_val,y_pred, average='micro'), 3)\n",
        "    print('MAX DEPTH: {} / # OF EST: {} -- A: {} / P: {} / R: {}'.format(mdl.max_depth,\n",
        "                                                                         mdl.n_estimators,\n",
        "                                                                         accuracy,\n",
        "                                                                         precision,\n",
        "                                                                         recall))"
      ],
      "metadata": {
        "id": "ThNTmqX88ljU",
        "colab": {
          "base_uri": "https://localhost:8080/"
        },
        "outputId": "6bc0dead-5c4a-4cbe-b5d1-df654080e581"
      },
      "execution_count": 16,
      "outputs": [
        {
          "output_type": "stream",
          "name": "stdout",
          "text": [
            "MAX DEPTH: 20 / # OF EST: 100 -- A: 0.809 / P: 0.809 / R: 0.809\n",
            "MAX DEPTH: None / # OF EST: 100 -- A: 0.821 / P: 0.821 / R: 0.821\n",
            "MAX DEPTH: None / # OF EST: 5 -- A: 0.799 / P: 0.799 / R: 0.799\n"
          ]
        }
      ]
    },
    {
      "cell_type": "markdown",
      "source": [
        "Finally, we can see the the best model is the second one:\n",
        "\n",
        "MAX DEPTH: None / # OF EST: 100\n",
        "\n",
        "So now we will evaluate the best model on the test set."
      ],
      "metadata": {
        "id": "p64Yawkz9dmo"
      }
    },
    {
      "cell_type": "code",
      "source": [
        "X_test=vectorize(X_test,tfidf_vect_fit)\n",
        "\n",
        "y_pred = rf2.predict(X_test)\n",
        "accuracy = round(accuracy_score(y_test,y_pred), 3)\n",
        "precision = round(precision_score(y_test,y_pred, average='micro'), 3)\n",
        "recall = round(recall_score(y_test,y_pred, average='micro'), 3)\n",
        "print('MAX DEPTH: {} / # OF EST: {} -- A: {} / P: {} / R: {}'.format(rf2.max_depth,\n",
        "                                                                     rf2.n_estimators,\n",
        "                                                                     accuracy,\n",
        "                                                                     precision,\n",
        "                                                                     recall))"
      ],
      "metadata": {
        "id": "i8vA68_a8oVl",
        "colab": {
          "base_uri": "https://localhost:8080/"
        },
        "outputId": "49323ae9-93df-4d87-af28-555d4a3edc36"
      },
      "execution_count": 17,
      "outputs": [
        {
          "output_type": "stream",
          "name": "stdout",
          "text": [
            "MAX DEPTH: None / # OF EST: 100 -- A: 0.814 / P: 0.814 / R: 0.814\n"
          ]
        }
      ]
    },
    {
      "cell_type": "code",
      "source": [
        "feat_importances = pd.Series(rf2.feature_importances_, index=X_train.columns)\n",
        "feat_importances.nlargest(20).plot(kind='barh',figsize=(10,10))\n",
        "plt.title(\"Top 20 important features\")\n",
        "plt.show()"
      ],
      "metadata": {
        "id": "qTrXXavC82xX",
        "colab": {
          "base_uri": "https://localhost:8080/",
          "height": 853
        },
        "outputId": "ad5b017d-6df6-491b-d719-e18a2910739d"
      },
      "execution_count": 18,
      "outputs": [
        {
          "output_type": "display_data",
          "data": {
            "text/plain": [
              "<Figure size 1000x1000 with 1 Axes>"
            ],
            "image/png": "[encoded data removed]"
          },
          "metadata": {}
        }
      ]
    },
    {
      "cell_type": "code",
      "source": [
        "feat_importances.nlargest(20)"
      ],
      "metadata": {
        "id": "k8s2OmFQh7Jg",
        "colab": {
          "base_uri": "https://localhost:8080/"
        },
        "outputId": "46f1d38b-c572-4fa0-83ed-5b5934e417c2"
      },
      "execution_count": 19,
      "outputs": [
        {
          "output_type": "execute_result",
          "data": {
            "text/plain": [
              "הכבוד      0.023747\n",
              "בהצלחה     0.007357\n",
              "תודה       0.006311\n",
              "אחלה       0.005498\n",
              "שאפו       0.004845\n",
              "איש        0.004315\n",
              "מעולה      0.004259\n",
              "צודק       0.004144\n",
              "סוף        0.003783\n",
              "כבוד       0.003622\n",
              "נהדרת      0.003338\n",
              "מצויינת    0.002932\n",
              "הכי        0.002849\n",
              "שנה        0.002792\n",
              "משפחה      0.002773\n",
              "אהבתי      0.002453\n",
              "טוב        0.002410\n",
              "אפשר       0.002403\n",
              "שיהיה      0.002376\n",
              "מילה       0.002349\n",
              "dtype: float64"
            ]
          },
          "metadata": {},
          "execution_count": 19
        }
      ]
    },
    {
      "cell_type": "code",
      "source": [
        "from sklearn import metrics\n",
        "confusion_matrix = metrics.confusion_matrix(y_test, y_pred)\n",
        "cm_display = metrics.ConfusionMatrixDisplay(confusion_matrix = confusion_matrix, display_labels = [\"Positive\", \"Neutral\", \"Negative\"])\n",
        "cm_display.plot()\n",
        "plt.show()"
      ],
      "metadata": {
        "id": "PZkrkQaVTktI",
        "colab": {
          "base_uri": "https://localhost:8080/",
          "height": 449
        },
        "outputId": "cceafda0-7278-4778-a31e-630708b9dc50"
      },
      "execution_count": 20,
      "outputs": [
        {
          "output_type": "display_data",
          "data": {
            "text/plain": [
              "<Figure size 640x480 with 2 Axes>"
            ],
            "image/png": "[encoded data removed]"
          },
          "metadata": {}
        }
      ]
    }
  ]
}